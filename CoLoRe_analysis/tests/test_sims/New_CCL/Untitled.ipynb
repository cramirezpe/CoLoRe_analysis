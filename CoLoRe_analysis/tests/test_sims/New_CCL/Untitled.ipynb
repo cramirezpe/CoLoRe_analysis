{
 "cells": [
  {
   "cell_type": "code",
   "execution_count": 8,
   "metadata": {},
   "outputs": [
    {
     "name": "stdout",
     "output_type": "stream",
     "text": [
      "HI\n"
     ]
    },
    {
     "name": "stderr",
     "output_type": "stream",
     "text": [
      "<ipython-input-8-f6a601750643>:73: RuntimeWarning: invalid value encountered in true_divide\n",
      "  e1map[ib, :] = e1map[ib]/dmap[ib]\n",
      "<ipython-input-8-f6a601750643>:75: RuntimeWarning: invalid value encountered in true_divide\n",
      "  e2map[ib, :] = e2map[ib]/dmap[ib]\n"
     ]
    },
    {
     "name": "stdout",
     "output_type": "stream",
     "text": [
      "5316.327616572224\n"
     ]
    }
   ],
   "source": [
    "import numpy as np\n",
    "import healpy as hp\n",
    "import matplotlib.pyplot as plt\n",
    "import pyccl as ccl\n",
    "import os\n",
    "from astropy.io import fits\n",
    "\n",
    "np.random.seed(1)\n",
    "# Hubble constant\n",
    "h = 0.7\n",
    "\n",
    "nside = 128\n",
    "npix = hp.nside2npix(nside)\n",
    "\n",
    "# We will make two bins (z_photo < 0.15 and z_photo > 0.15)\n",
    "nbins = 2\n",
    "nz_h = 50\n",
    "zsplit = 0.15\n",
    "\n",
    "# This will contain the N(z) of the different bins\n",
    "nz_tot = np.zeros([nbins, nz_h])\n",
    "sigz = 0.03\n",
    "\n",
    "# These will be the density and ellipticity maps\n",
    "dmap = np.zeros([nbins, npix])\n",
    "e1map = np.zeros([nbins, npix])\n",
    "e2map = np.zeros([nbins, npix])\n",
    "\n",
    "# Now we loop over all source files\n",
    "ifile = 0\n",
    "while os.path.isfile('out_srcs_s1_%d.fits' % ifile):\n",
    "    print(\"HI\")\n",
    "    hdulist = fits.open('out_srcs_s1_%d.fits' % ifile)\n",
    "    d = hdulist[1].data\n",
    "    n_g = len(d)\n",
    "\n",
    "    # Generate random photo-z\n",
    "    z_photo = d['Z_COSMO'] + sigz*(1+d['Z_COSMO'])*np.random.randn(n_g)\n",
    "\n",
    "    # Split into 2\n",
    "    msk1 = z_photo <= zsplit\n",
    "    msk2 = z_photo > zsplit\n",
    "\n",
    "    # For each bin, add to the number and ellipticity maps\n",
    "    for ibin, msk in enumerate([msk1, msk2]):\n",
    "        dd = d[msk]\n",
    "\n",
    "        pix = hp.ang2pix(nside,\n",
    "                         np.radians(90-dd['DEC']),\n",
    "                         np.radians(dd['RA']))\n",
    "        n = np.bincount(pix, minlength=npix)\n",
    "        e1 = np.bincount(pix, minlength=npix, weights=dd['E1'])\n",
    "        e2 = np.bincount(pix, minlength=npix, weights=dd['E2'])\n",
    "        dmap[ibin, :] += n\n",
    "        e1map[ibin, :] += e1\n",
    "        e2map[ibin, :] += e2\n",
    "\n",
    "        # Add also to N(z)\n",
    "        nz, z_edges = np.histogram(dd['Z_COSMO'], bins=nz_h,\n",
    "                                   range=[0., 0.5])\n",
    "        nz_tot[ibin, :] += nz\n",
    "    ifile += 1\n",
    "\n",
    "# Midpoint of N(z) histogram\n",
    "z_nz = 0.5*(z_edges[1:] + z_edges[:-1])\n",
    "\n",
    "# Compute <e> map and overdensity map\n",
    "# Compute also shot noise level\n",
    "shotnoise = np.zeros(nbins)\n",
    "for ib in range(nbins):\n",
    "    ndens = (np.sum(dmap[ib])+0.0)/(4*np.pi)\n",
    "    shotnoise[ib] = 1./ndens\n",
    "    e1map[ib, :] = e1map[ib]/dmap[ib]\n",
    "    e1map[ib, dmap[ib] <= 0] = 0\n",
    "    e2map[ib, :] = e2map[ib]/dmap[ib]\n",
    "    e2map[ib, dmap[ib] <= 0] = 0\n",
    "    dmap[ib, :] = (dmap[ib, :] + 0.0) / np.mean(dmap[ib] + 0.0) - 1\n",
    "\n",
    "# Read P(k) theory prediction\n",
    "zs = []\n",
    "pks_dd = []\n",
    "pks_dm = []\n",
    "pks_mm = []\n",
    "z_pk = 0.\n",
    "while os.path.isfile(\"out_pk_srcs_pop0_z%.3lf.txt\" % z_pk):\n",
    "    ks, pdd, pdm, pmm = np.loadtxt(\"out_pk_srcs_pop0_z%.3lf.txt\" % z_pk, unpack=True)\n",
    "    # The delta-delta prediction involves some Fourier transforms that make it unstable\n",
    "    # at high-k, so we just set it to zero.\n",
    "    pdd[pmm<1E-30] = 0\n",
    "    pks_dd.append(pdd)\n",
    "    pks_dm.append(pdm)\n",
    "    pks_mm.append(pmm)\n",
    "    zs.append(z_pk)\n",
    "    z_pk += 0.1\n",
    "# Reverse order (because CCL needs increasing scale factor - not redshift).\n",
    "# Also, CCL uses non-h units.\n",
    "zs = np.array(zs)[::-1]\n",
    "ks = np.array(ks) * h\n",
    "pks_dd = np.array(pks_dd)[::-1, :] / h**3\n",
    "pks_dm = np.array(pks_dm)[::-1, :] / h**3\n",
    "pks_mm = np.array(pks_mm)[::-1, :] / h**3\n",
    "\n",
    "# Create CCL P(k) structures\n",
    "cosmo = ccl.Cosmology(Omega_c=0.25, Omega_b=0.05, h=h, n_s=0.96, sigma8=0.8)\n",
    "pk2d_dd = ccl.Pk2D(a_arr=1./(1+zs), lk_arr=np.log(ks), pk_arr=pks_dd,\n",
    "                   is_logp=False, extrap_order_hik=0, extrap_order_lok=0)\n",
    "pk2d_dm = ccl.Pk2D(a_arr=1./(1+zs), lk_arr=np.log(ks), pk_arr=pks_dm,\n",
    "                   is_logp=False, extrap_order_hik=0, extrap_order_lok=0)\n",
    "pk2d_mm = ccl.Pk2D(a_arr=1./(1+zs), lk_arr=np.log(ks), pk_arr=pks_mm,\n",
    "                   is_logp=False, extrap_order_hik=0, extrap_order_lok=0)\n",
    "# These can be evaluated as follows:\n",
    "print(pk2d_dd.eval(k=0.1, a=1/(1+0.2), cosmo=cosmo))\n",
    "\n",
    "# Create a number counts and a weak lensing tracer for each of the bins\n",
    "tr_d = [ccl.NumberCountsTracer(cosmo, False, (z_nz, nz_tot[i]), bias=(z_nz, np.ones_like(z_nz)))\n",
    "        for i in range(nbins)]\n",
    "tr_l = [ccl.WeakLensingTracer(cosmo, (z_nz, nz_tot[i])) for i in range(nbins)]\n",
    "\n",
    "# Compute power spectra. I'm only doing delta-delta here.\n",
    "pairs=[(0,0), (0,1), (1,1)]\n",
    "cl_dd_d = np.array([hp.anafast(dmap[p1], dmap[p2]) for p1, p2 in pairs])\n",
    "larr = np.arange(3*nside)\n",
    "cl_dd_t = np.array([ccl.angular_cl(cosmo, tr_d[p1], tr_d[p2], larr, p_of_k_a=pk2d_mm)\n",
    "                    for p1, p2 in pairs])"
   ]
  },
  {
   "cell_type": "code",
   "execution_count": null,
   "metadata": {},
   "outputs": [],
   "source": []
  },
  {
   "cell_type": "code",
   "execution_count": 9,
   "metadata": {},
   "outputs": [],
   "source": [
    "all_objects = larr, pairs, shotnoise, cl_dd_d, cl_dd_t, nz_tot, z_nz"
   ]
  },
  {
   "cell_type": "code",
   "execution_count": 10,
   "metadata": {},
   "outputs": [],
   "source": [
    "import pickle"
   ]
  },
  {
   "cell_type": "code",
   "execution_count": 11,
   "metadata": {},
   "outputs": [],
   "source": [
    "with open('all_data.pkl','wb') as output:\n",
    "    pickle.dump(all_objects, output)"
   ]
  },
  {
   "cell_type": "code",
   "execution_count": 1,
   "metadata": {},
   "outputs": [],
   "source": [
    "import numpy as np\n",
    "import healpy as hp\n",
    "import matplotlib.pyplot as plt\n",
    "import pyccl as ccl\n",
    "import os\n",
    "from astropy.io import fits\n",
    "import pickle"
   ]
  },
  {
   "cell_type": "code",
   "execution_count": 6,
   "metadata": {},
   "outputs": [],
   "source": [
    "with open('all_data.pkl','rb') as input:\n",
    "    larr, pairs, shotnoise, cl_dd_d, cl_dd_t, nz_tot, z_nz = pickle.load(input)"
   ]
  },
  {
   "cell_type": "code",
   "execution_count": 7,
   "metadata": {},
   "outputs": [],
   "source": [
    "nside = 128"
   ]
  },
  {
   "cell_type": "code",
   "execution_count": 3,
   "metadata": {
    "collapsed": true,
    "jupyter": {
     "outputs_hidden": true
    }
   },
   "outputs": [
    {
     "data": {
      "image/png": "[encoded data removed]",
      "text/plain": [
       "<Figure size 432x288 with 1 Axes>"
      ]
     },
     "metadata": {
      "needs_background": "light"
     },
     "output_type": "display_data"
    },
    {
     "data": {
      "image/png": "[encoded data removed]",
      "text/plain": [
       "<Figure size 432x288 with 1 Axes>"
      ]
     },
     "metadata": {
      "needs_background": "light"
     },
     "output_type": "display_data"
    },
    {
     "data": {
      "image/png": "[encoded data removed]",
      "text/plain": [
       "<Figure size 432x288 with 1 Axes>"
      ]
     },
     "metadata": {
      "needs_background": "light"
     },
     "output_type": "display_data"
    },
    {
     "data": {
      "image/png": "[encoded data removed]",
      "text/plain": [
       "<Figure size 432x288 with 1 Axes>"
      ]
     },
     "metadata": {
      "needs_background": "light"
     },
     "output_type": "display_data"
    }
   ],
   "source": [
    "# Compare C_ells with theory\n",
    "for i, (p1, p2) in enumerate(pairs):\n",
    "    plt.figure()\n",
    "    plt.title('d-%d d-%d' % (p1, p2))\n",
    "    if p1 == p2:\n",
    "        nl = shotnoise[p1]\n",
    "        plt.plot(larr, nl*np.ones_like(larr), 'k--', label='Shot noise')\n",
    "    else:\n",
    "        nl = 0\n",
    "\n",
    "    # Rebin to reduce noise\n",
    "    cld = np.mean((cl_dd_d[i]-nl).reshape([-1, 6]), axis=1)\n",
    "    clt = np.mean(cl_dd_t[i].reshape([-1, 6]), axis=1)\n",
    "    l = np.mean(larr.reshape([-1, 6]), axis=1)\n",
    "    msk = l<2*nside\n",
    "    plt.plot(l[msk], cld[msk], 'k.', label='Sim')\n",
    "    plt.plot(l[msk], clt[msk], 'r-', label='Prediction')\n",
    "    plt.loglog()\n",
    "    plt.xlabel(r'$\\ell$', fontsize=15)\n",
    "    plt.ylabel(r'$C_\\ell$', fontsize=15)\n",
    "    plt.legend(loc='lower left')\n",
    "\n",
    "# Plot N(z)s\n",
    "plt.figure()\n",
    "for n in nz_tot:\n",
    "    plt.plot(z_nz, n)\n",
    "plt.plot(z_nz, np.sum(nz_tot, axis=0), 'k-')\n",
    "plt.xlabel(r'$z$', fontsize=15)\n",
    "plt.ylabel(r'$N(z)$', fontsize=15)\n",
    "plt.show()"
   ]
  },
  {
   "cell_type": "code",
   "execution_count": 1,
   "metadata": {},
   "outputs": [],
   "source": [
    "import numpy as np\n",
    "import healpy as hp\n",
    "import matplotlib.pyplot as plt\n",
    "import pyccl as ccl\n",
    "import os\n",
    "from astropy.io import fits\n",
    "\n",
    "sim_path = '/global/homes/c/cramirez/Codes/CoLoRe_analysis/CoLoRe_analysis/tests/test_sims/New_CCL'\n",
    "output_path = 'ccl_data/'"
   ]
  },
  {
   "cell_type": "code",
   "execution_count": 7,
   "metadata": {},
   "outputs": [
    {
     "name": "stderr",
     "output_type": "stream",
     "text": [
      "<ipython-input-7-b71c52020411>:64: RuntimeWarning: invalid value encountered in true_divide\n",
      "  e1map[ib, :] = e1map[ib]/dmap[ib]\n",
      "<ipython-input-7-b71c52020411>:66: RuntimeWarning: invalid value encountered in true_divide\n",
      "  e2map[ib, :] = e2map[ib]/dmap[ib]\n"
     ]
    },
    {
     "name": "stdout",
     "output_type": "stream",
     "text": [
      "5316.327616572224\n"
     ]
    }
   ],
   "source": [
    "# Hubble constant\n",
    "h = 0.7\n",
    "\n",
    "nside = 128\n",
    "npix = hp.nside2npix(nside)\n",
    "\n",
    "# We will make two bins (z_photo < 0.15 and z_photo > 0.15)\n",
    "nbins = 2\n",
    "nz_h = 50\n",
    "zsplit = 0.15\n",
    "\n",
    "# This will contain the N(z) of the different bins\n",
    "nz_tot = np.zeros([nbins, nz_h])\n",
    "sigz = 0.03\n",
    "\n",
    "# These will be the density and ellipticity maps\n",
    "dmap = np.zeros([nbins, npix])\n",
    "e1map = np.zeros([nbins, npix])\n",
    "e2map = np.zeros([nbins, npix])\n",
    "\n",
    "# Now we loop over all source files\n",
    "ifile = 0\n",
    "while os.path.isfile(sim_path + '/out_srcs_s1_%d.fits' % ifile):\n",
    "    hdulist = fits.open(sim_path + '/out_srcs_s1_%d.fits' % ifile)\n",
    "    d = hdulist[1].data\n",
    "    n_g = len(d)\n",
    "\n",
    "    # Generate random photo-z\n",
    "    z_photo = d['Z_COSMO'] + sigz*(1+d['Z_COSMO'])*np.random.randn(n_g)\n",
    "\n",
    "    # Split into 2\n",
    "    msk1 = z_photo <= zsplit\n",
    "    msk2 = z_photo > zsplit\n",
    "\n",
    "    # For each bin, add to the number and ellipticity maps\n",
    "    for ibin, msk in enumerate([msk1, msk2]):\n",
    "        dd = d[msk]\n",
    "\n",
    "        pix = hp.ang2pix(nside,\n",
    "                        np.radians(90-dd['DEC']),\n",
    "                        np.radians(dd['RA']))\n",
    "        n = np.bincount(pix, minlength=npix)\n",
    "        e1 = np.bincount(pix, minlength=npix, weights=dd['E1'])\n",
    "        e2 = np.bincount(pix, minlength=npix, weights=dd['E2'])\n",
    "        dmap[ibin, :] += n\n",
    "        e1map[ibin, :] += e1\n",
    "        e2map[ibin, :] += e2\n",
    "\n",
    "        # Add also to N(z)\n",
    "        nz, z_edges = np.histogram(dd['Z_COSMO'], bins=nz_h,\n",
    "                                range=[0., 0.5])\n",
    "        nz_tot[ibin, :] += nz\n",
    "    ifile += 1\n",
    "\n",
    "# Midpoint of N(z) histogram\n",
    "z_nz = 0.5*(z_edges[1:] + z_edges[:-1])\n",
    "\n",
    "# Compute <e> map and overdensity map\n",
    "# Compute also shot noise level\n",
    "shotnoise = np.zeros(nbins)\n",
    "for ib in range(nbins):\n",
    "    ndens = (np.sum(dmap[ib])+0.0)/(4*np.pi)\n",
    "    shotnoise[ib] = 1./ndens\n",
    "    e1map[ib, :] = e1map[ib]/dmap[ib]\n",
    "    e1map[ib, dmap[ib] <= 0] = 0\n",
    "    e2map[ib, :] = e2map[ib]/dmap[ib]\n",
    "    e2map[ib, dmap[ib] <= 0] = 0\n",
    "    dmap[ib, :] = (dmap[ib, :] + 0.0) / np.mean(dmap[ib] + 0.0) - 1\n",
    "\n",
    "# Read P(k) theory prediction\n",
    "zs = []\n",
    "pks_dd = []\n",
    "pks_dm = []\n",
    "pks_mm = []\n",
    "z_pk = 0.\n",
    "while os.path.isfile(sim_path + \"/out_pk_srcs_pop0_z%.3lf.txt\" % z_pk):\n",
    "    ks, pdd, pdm, pmm = np.loadtxt(sim_path + \"/out_pk_srcs_pop0_z%.3lf.txt\" % z_pk, unpack=True)\n",
    "    # The delta-delta prediction involves some Fourier transforms that make it unstable\n",
    "    # at high-k, so we just set it to zero.\n",
    "    pdd[pmm<1E-30] = 0\n",
    "    pks_dd.append(pdd)\n",
    "    pks_dm.append(pdm)\n",
    "    pks_mm.append(pmm)\n",
    "    zs.append(z_pk)\n",
    "    z_pk += 0.1\n",
    "# Reverse order (because CCL needs increasing scale factor - not redshift).\n",
    "# Also, CCL uses non-h units.\n",
    "zs = np.array(zs)[::-1]\n",
    "ks = np.array(ks) * h\n",
    "pks_dd = np.array(pks_dd)[::-1, :] / h**3\n",
    "pks_dm = np.array(pks_dm)[::-1, :] / h**3\n",
    "pks_mm = np.array(pks_mm)[::-1, :] / h**3\n",
    "\n",
    "# Create CCL P(k) structures\n",
    "cosmo = ccl.Cosmology(Omega_c=0.25, Omega_b=0.05, h=h, n_s=0.96, sigma8=0.8)\n",
    "pk2d_dd = ccl.Pk2D(a_arr=1./(1+zs), lk_arr=np.log(ks), pk_arr=pks_dd,\n",
    "                is_logp=False, extrap_order_hik=0, extrap_order_lok=0)\n",
    "pk2d_dm = ccl.Pk2D(a_arr=1./(1+zs), lk_arr=np.log(ks), pk_arr=pks_dm,\n",
    "                is_logp=False, extrap_order_hik=0, extrap_order_lok=0)\n",
    "pk2d_mm = ccl.Pk2D(a_arr=1./(1+zs), lk_arr=np.log(ks), pk_arr=pks_mm,\n",
    "                is_logp=False, extrap_order_hik=0, extrap_order_lok=0)\n",
    "# These can be evaluated as follows:\n",
    "print(pk2d_dd.eval(k=0.1, a=1/(1+0.2), cosmo=cosmo))\n",
    "\n",
    "# Create a number counts and a weak lensing tracer for each of the bins\n",
    "tr_d = [ccl.NumberCountsTracer(cosmo, False, (z_nz, nz_tot[i]), bias=(z_nz, np.ones_like(z_nz)))\n",
    "        for i in range(nbins)]\n",
    "tr_l = [ccl.WeakLensingTracer(cosmo, (z_nz, nz_tot[i])) for i in range(nbins)]\n",
    "\n",
    "# Compute power spectra. I'm only doing delta-delta here.\n",
    "pairs=[(0,0), (0,1), (1,1)]\n",
    "cl_dd_d = np.array([hp.anafast(dmap[p1], dmap[p2]) for p1, p2 in pairs])\n",
    "larr = np.arange(3*nside)\n",
    "cl_dd_t = np.array([ccl.angular_cl(cosmo, tr_d[p1], tr_d[p2], larr, p_of_k_a=pk2d_mm)\n",
    "                    for p1, p2 in pairs])"
   ]
  },
  {
   "cell_type": "code",
   "execution_count": 5,
   "metadata": {},
   "outputs": [
    {
     "ename": "NameError",
     "evalue": "name 'cl_dd_t' is not defined",
     "output_type": "error",
     "traceback": [
      "\u001b[0;31m---------------------------------------------------------------------------\u001b[0m",
      "\u001b[0;31mNameError\u001b[0m                                 Traceback (most recent call last)",
      "\u001b[0;32m<ipython-input-5-7823ca7ecbf7>\u001b[0m in \u001b[0;36m<module>\u001b[0;34m\u001b[0m\n\u001b[0;32m----> 1\u001b[0;31m \u001b[0mcl_dd_t\u001b[0m\u001b[0;34m\u001b[0m\u001b[0;34m\u001b[0m\u001b[0m\n\u001b[0m",
      "\u001b[0;31mNameError\u001b[0m: name 'cl_dd_t' is not defined"
     ]
    }
   ],
   "source": [
    "cl_dd_t"
   ]
  },
  {
   "cell_type": "code",
   "execution_count": null,
   "metadata": {},
   "outputs": [],
   "source": []
  }
 ],
 "metadata": {
  "kernelspec": {
   "display_name": "CoLoReEnv",
   "language": "python",
   "name": "colore_env"
  },
  "language_info": {
   "codemirror_mode": {
    "name": "ipython",
    "version": 3
   },
   "file_extension": ".py",
   "mimetype": "text/x-python",
   "name": "python",
   "nbconvert_exporter": "python",
   "pygments_lexer": "ipython3",
   "version": "3.8.0"
  }
 },
 "nbformat": 4,
 "nbformat_minor": 4
}
