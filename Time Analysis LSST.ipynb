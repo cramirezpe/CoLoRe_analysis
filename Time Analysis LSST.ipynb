{
 "cells": [
  {
   "cell_type": "code",
   "execution_count": 1,
   "metadata": {},
   "outputs": [],
   "source": [
    "import sys, os\n",
    "import imp\n",
    "import matplotlib.gridspec as gridspec\n",
    "import matplotlib.pyplot as plt\n",
    "import numpy as np\n",
    "sys.path.insert(0,'./LIB')\n",
    "import time_analysis_LSST as timean\n",
    "import timeit\n",
    "from time_analysis_LSST import (FileManager, MemoryReader, FilterList, Simulation, Sim0404)\n",
    "import filecmp\n",
    "import tailer"
   ]
  },
  {
   "cell_type": "code",
   "execution_count": 2,
   "metadata": {},
   "outputs": [],
   "source": [
    "path = \"/global/cscratch1/sd/cramirez/CoLoRe_LSST/\"\n",
    "sims_classes = {\n",
    "    '0404' : Sim0404\n",
    "}"
   ]
  },
  {
   "cell_type": "markdown",
   "metadata": {},
   "source": [
    "# Some useful functions"
   ]
  },
  {
   "cell_type": "code",
   "execution_count": 3,
   "metadata": {},
   "outputs": [],
   "source": [
    "def compare_helper(sima,simb,file_in_sim,program=\"diff\"):\n",
    "    return program + ' ' + sima.location + '/' + file_in_sim + ' ' + simb.location + '/' + file_in_sim\n",
    "\n",
    "def read_file(file,program='lessn'):\n",
    "    print(program + ' ' + file)\n",
    "    \n",
    "def get_tail(file,lines=3):\n",
    "    lines = tailer.tail(open(file), lines)\n",
    "    for line in lines:\n",
    "        print(line)"
   ]
  },
  {
   "cell_type": "markdown",
   "metadata": {},
   "source": [
    "# Getting sims locations and status"
   ]
  },
  {
   "cell_type": "code",
   "execution_count": 8,
   "metadata": {},
   "outputs": [
    {
     "name": "stdout",
     "output_type": "stream",
     "text": [
      "Prepared\n",
      "\n",
      "Crashed\n",
      "/global/cscratch1/sd/cramirez/CoLoRe_LSST/New/shear_20/nside_512/0.01/202004160330\n",
      "/global/cscratch1/sd/cramirez/CoLoRe_LSST/New/shear_20/nside_512/0/20200416101345\n",
      "/global/cscratch1/sd/cramirez/CoLoRe_LSST/New/shear_20/nside_512/0.1/202004151040\n",
      "/global/cscratch1/sd/cramirez/CoLoRe_LSST/New/shear_20/nside_512/0.1/202004151147\n",
      "/global/cscratch1/sd/cramirez/CoLoRe_LSST/New/shear_10/nside_512/0.01/202004150134\n",
      "/global/cscratch1/sd/cramirez/CoLoRe_LSST/New/shear_10/nside_512/0.01/202004160336\n",
      "/global/cscratch1/sd/cramirez/CoLoRe_LSST/New/shear_10/nside_512/0.01/202004150212\n",
      "/global/cscratch1/sd/cramirez/CoLoRe_LSST/New/shear_5/nside_512/0.01/202004150238\n",
      "/global/cscratch1/sd/cramirez/CoLoRe_LSST/New/shear_5/nside_512/0.1/202004150853\n",
      "/global/cscratch1/sd/cramirez/CoLoRe_LSST/New/shear_5/nside_512/0.1/202004151147\n",
      "/global/cscratch1/sd/cramirez/CoLoRe_LSST/New/shear_50/nside_512/202004141536/0.01\n",
      "/global/cscratch1/sd/cramirez/CoLoRe_LSST/New/shear_50/nside_512/0.1/202004151148\n",
      "/global/cscratch1/sd/cramirez/CoLoRe_LSST/New/shear_50/nside_512/0.1/202004141640\n",
      "/global/cscratch1/sd/cramirez/CoLoRe_LSST/New/shear_50/nside_512/0.1/202004151041\n",
      "/global/cscratch1/sd/cramirez/CoLoRe_LSST/New/shear_110/nside_512/0.01/0\n",
      "\n",
      "Running\n",
      "\n",
      "Done\n",
      "/global/cscratch1/sd/cramirez/CoLoRe_LSST/New/shear_20/nside_512/0.001/202004160315\n",
      "/global/cscratch1/sd/cramirez/CoLoRe_LSST/New/shear_20/nside_512/0.001/0\n",
      "/global/cscratch1/sd/cramirez/CoLoRe_LSST/New/shear_20/nside_512/0.1/20200521010157\n",
      "/global/cscratch1/sd/cramirez/CoLoRe_LSST/New/shear_20/nside_512/0.0001/202004160717\n",
      "/global/cscratch1/sd/cramirez/CoLoRe_LSST/New/shear_20/nside_512/0.0001/202004160430\n",
      "/global/cscratch1/sd/cramirez/CoLoRe_LSST/New/shear_20/nside_512/0.0001/202004160316\n",
      "/global/cscratch1/sd/cramirez/CoLoRe_LSST/New/shear_10/nside_512/0.001/0\n",
      "/global/cscratch1/sd/cramirez/CoLoRe_LSST/New/shear_10/nside_512/0.0001/202004160338\n",
      "/global/cscratch1/sd/cramirez/CoLoRe_LSST/New/shear_50/nside_512/0.01/202004141616\n",
      "/global/cscratch1/sd/cramirez/CoLoRe_LSST/New/shear_110/nside_512/0.001/0\n",
      "/global/cscratch1/sd/cramirez/CoLoRe_LSST/master/0.002/0\n",
      "/global/cscratch1/sd/cramirez/CoLoRe_LSST/master/0.01/0\n",
      "/global/cscratch1/sd/cramirez/CoLoRe_LSST/master/0.01/20200416074931\n",
      "/global/cscratch1/sd/cramirez/CoLoRe_LSST/master/0.01/20200416090110\n",
      "/global/cscratch1/sd/cramirez/CoLoRe_LSST/master/0.001/0\n",
      "/global/cscratch1/sd/cramirez/CoLoRe_LSST/master/0/20200416101437\n",
      "/global/cscratch1/sd/cramirez/CoLoRe_LSST/master/0/20200416101449\n",
      "/global/cscratch1/sd/cramirez/CoLoRe_LSST/master/0.1/0\n",
      "/global/cscratch1/sd/cramirez/CoLoRe_LSST/master/0.0001/202004160428\n",
      "/global/cscratch1/sd/cramirez/CoLoRe_LSST/master/0.0001/0\n",
      "/global/cscratch1/sd/cramirez/CoLoRe_LSST/master/0.0001/20200416093643\n",
      "/global/cscratch1/sd/cramirez/CoLoRe_LSST/master/0.0001/202004160718\n",
      "/global/cscratch1/sd/cramirez/CoLoRe_LSST/Old/shear_800/nside_512/0.0001/202004150812\n",
      "/global/cscratch1/sd/cramirez/CoLoRe_LSST/Old/shear_20/nside_512/0/20200416101416\n",
      "/global/cscratch1/sd/cramirez/CoLoRe_LSST/Old/shear_20/nside_512/0.0001/202004160717\n",
      "/global/cscratch1/sd/cramirez/CoLoRe_LSST/Old/shear_20/nside_512/0.0001/202004160427\n",
      "/global/cscratch1/sd/cramirez/CoLoRe_LSST/Old/shear_10/nside_512/0.001/0\n",
      "/global/cscratch1/sd/cramirez/CoLoRe_LSST/Old/shear_10/nside_512/0.001/202004160411\n",
      "/global/cscratch1/sd/cramirez/CoLoRe_LSST/Old/shear_5/nside_512/0.002/202004150814\n",
      "/global/cscratch1/sd/cramirez/CoLoRe_LSST/Old/shear_5/nside_512/0.01/20200416081228\n",
      "/global/cscratch1/sd/cramirez/CoLoRe_LSST/Old/shear_5/nside_512/0.01/202004150834\n",
      "/global/cscratch1/sd/cramirez/CoLoRe_LSST/Old/shear_5/nside_512/0.001/202004150813\n",
      "/global/cscratch1/sd/cramirez/CoLoRe_LSST/Old/shear_5/nside_512/0.001/20200416080714\n",
      "/global/cscratch1/sd/cramirez/CoLoRe_LSST/Old/shear_5/nside_512/0.1/202004150835\n",
      "/global/cscratch1/sd/cramirez/CoLoRe_LSST/Old/shear_5/nside_512/0.0001/202004150813\n",
      "/global/cscratch1/sd/cramirez/CoLoRe_LSST/Old/shear_5/nside_512/0.0001/20200416080656\n",
      "/global/cscratch1/sd/cramirez/CoLoRe_LSST/Old/shear_50/nside_512/0.01/20200416074907\n",
      "\n"
     ]
    }
   ],
   "source": [
    "for x in FilterList.filters():\n",
    "    print(x[0])\n",
    "    sims = FileManager.get_simulations(path,x[1])\n",
    "    \n",
    "    for sim in sims:\n",
    "        print(sim)\n",
    "    print('')"
   ]
  },
  {
   "cell_type": "markdown",
   "metadata": {},
   "source": [
    "# Checking prepared simulations"
   ]
  },
  {
   "cell_type": "code",
   "execution_count": 11,
   "metadata": {},
   "outputs": [
    {
     "name": "stdout",
     "output_type": "stream",
     "text": [
      "Prepared\n",
      "\n",
      "| id | Status | Seed | Version | Template | Factor | Shear | Datetime |\n",
      "|:----:|:----:|:----:|:----:|:----:|:----:|:----:|:----:|\n",
      "\n",
      "\n",
      "Crashed\n",
      "\n",
      "| id | Status | Seed | Version | Template | Factor | Shear | Datetime |\n",
      "|:----:|:----:|:----:|:----:|:----:|:----:|:----:|:----:|\n",
      "| 0 | crashed | 1003 | New | master_with_shear | 0.01 | 20 | 202004160330 |\n",
      "| 1 | crashed | 1003 | New | shear_test | 0 | 20 | 20200416101345 |\n",
      "| 2 | crashed | 1003 | New | master_with_shear | 0.1 | 20 | 202004151040 |\n",
      "| 3 | crashed | 1003 | New | master_with_shear | 0.1 | 20 | 202004151147 |\n",
      "| 4 | crashed | 1003 | New | 02 | 0.01 | 10 | 202004150134 |\n",
      "| 5 | crashed | 1003 | New | master_with_shear | 0.01 | 10 | 202004160336 |\n",
      "| 6 | crashed | 1003 | New | 02 | 0.01 | 10 | 202004150212 |\n",
      "| 7 | crashed | 1003 | New | 02 | 0.01 | 5 | 202004150238 |\n",
      "| 8 | crashed | 1003 | New | master_with_shear | 0.1 | 5 | 202004150853 |\n",
      "| 9 | crashed | 1003 | New | master_with_shear | 0.1 | 5 | 202004151147 |\n",
      "| 10 | crashed | 1003 | New | 02 | 0.01 | 50 | 0.01 |\n",
      "| 11 | crashed | 1003 | New | master_with_shear | 0.1 | 50 | 202004151148 |\n",
      "| 12 | crashed | 1003 | New | 03 | 0.1 | 50 | 202004141640 |\n",
      "| 13 | crashed | 1003 | New | master_with_shear | 0.1 | 50 | 202004151041 |\n",
      "| 14 | crashed | 1003 | New | 01 | 0.01 | 110 | 0 |\n",
      "\n",
      "\n",
      "Running\n",
      "\n",
      "| id | Status | Seed | Version | Template | Factor | Shear | Datetime |\n",
      "|:----:|:----:|:----:|:----:|:----:|:----:|:----:|:----:|\n",
      "\n",
      "\n",
      "Done\n",
      "\n",
      "| id | Status | Seed | Version | Template | Factor | Shear | Datetime |\n",
      "|:----:|:----:|:----:|:----:|:----:|:----:|:----:|:----:|\n",
      "| 15 | done | 1003 | New | master_with_shear | 0.001 | 20 | 202004160315 |\n",
      "| 16 | done | 1003 | New | 01 | 0.001 | 20 | 0 |\n",
      "| 17 | done | 1003 | New | master_with_shear | 0.1 | 20 | 20200521010157 |\n",
      "| 18 | done | 1003 | New | 03 | 0.0001 | 20 | 202004160717 |\n",
      "| 19 | done | 1003 | New | 04 | 0.0001 | 20 | 202004160430 |\n",
      "| 20 | done | 1003 | New | master_with_shear | 0.0001 | 20 | 202004160316 |\n",
      "| 21 | done | 1003 | New | 01 | 0.001 | 10 | 0 |\n",
      "| 22 | done | 1003 | New | master_with_shear | 0.0001 | 10 | 202004160338 |\n",
      "| 23 | done | 1003 | New | 03 | 0.01 | 50 | 202004141616 |\n",
      "| 24 | done | 1003 | New | 01 | 0.001 | 110 | 0 |\n",
      "| 25 | done | 1003 | master | master | 0.002 | None | 0 |\n",
      "| 26 | done | 1003 | master | master | 0.01 | None | 0 |\n",
      "| 27 | done | 1003 | master | 03 | 0.01 | None | 20200416074931 |\n",
      "| 28 | done | 1003 | master | master_with_shear | 0.01 | None | 20200416090110 |\n",
      "| 29 | done | 1003 | master | master | 0.001 | None | 0 |\n",
      "| 30 | done | 1003 | master | shear_test | 0 | None | 20200416101437 |\n",
      "| 31 | done | 1003 | master | shear_test | 0 | None | 20200416101449 |\n",
      "| 32 | done | 1003 | master | master | 0.1 | None | 0 |\n",
      "| 33 | done | 1003 | master | 04 | 0.0001 | None | 202004160428 |\n",
      "| 34 | done | 1003 | master | master | 0.0001 | None | 0 |\n",
      "| 35 | done | 1003 | master | master_with_shear | 0.0001 | None | 20200416093643 |\n",
      "| 36 | done | 1003 | master | 03 | 0.0001 | None | 202004160718 |\n",
      "| 37 | done | 1003 | Old | master_with_shear | 0.0001 | 800 | 202004150812 |\n",
      "| 38 | done | 1003 | Old | shear_test | 0 | 20 | 20200416101416 |\n",
      "| 39 | done | 1003 | Old | 03 | 0.0001 | 20 | 202004160717 |\n",
      "| 40 | done | 1003 | Old | 04 | 0.0001 | 20 | 202004160427 |\n",
      "| 41 | done | 1003 | Old | 01 | 0.001 | 10 | 0 |\n",
      "| 42 | done | 1003 | Old | 03 | 0.001 | 10 | 202004160411 |\n",
      "| 43 | done | 1003 | Old | master_with_shear | 0.002 | 5 | 202004150814 |\n",
      "| 44 | done | 1003 | Old | master | 0.01 | 5 | 20200416081228 |\n",
      "| 45 | done | 1003 | Old | master_with_shear | 0.01 | 5 | 202004150834 |\n",
      "| 46 | done | 1003 | Old | master_with_shear | 0.001 | 5 | 202004150813 |\n",
      "| 47 | done | 1003 | Old | master | 0.001 | 5 | 20200416080714 |\n",
      "| 48 | done | 1003 | Old | master_with_shear | 0.1 | 5 | 202004150835 |\n",
      "| 49 | done | 1003 | Old | master_with_shear | 0.0001 | 5 | 202004150813 |\n",
      "| 50 | done | 1003 | Old | master | 0.0001 | 5 | 20200416080656 |\n",
      "| 51 | done | 1003 | Old | 03 | 0.01 | 50 | 20200416074907 |\n",
      "\n",
      "\n"
     ]
    }
   ],
   "source": [
    "sims = {}\n",
    "id_ = 0\n",
    "for x in FilterList.filters():\n",
    "    print(x[0]+'\\n')\n",
    "    print('| id | Status | Seed | Version | Template | Factor | Shear | Datetime |')\n",
    "    print('|:----:|:----:|:----:|:----:|:----:|:----:|:----:|:----:|')\n",
    "    for sim in FileManager.get_simulations(path,x[1]):\n",
    "        simname = id_\n",
    "        id_+=1\n",
    "        sims[simname] = sims_classes['0404'](sim,simname)\n",
    "        x = sims[simname]\n",
    "        print('| {} | {} | {} | {} | {} | {} | {} | {} |'.format(x.__name__,x.status,x.seed,x.version,x.template,x.factor,x.shear,x.preparation_time))\n",
    "    print('\\n')\n",
    "    "
   ]
  },
  {
   "cell_type": "code",
   "execution_count": 6,
   "metadata": {},
   "outputs": [
    {
     "name": "stdout",
     "output_type": "stream",
     "text": [
      "| id | Status | Seed | Version | Template | Factor | Shear |\n",
      "|:----:|:----:|:----:|:----:|:----:|:----:|:----:|\n"
     ]
    }
   ],
   "source": [
    "param_filter = {\n",
    "    \"status\" : \"prepared\"\n",
    "}\n",
    "\n",
    "sims = {}\n",
    "\n",
    "print('| id | Status | Seed | Version | Template | Factor | Shear |')\n",
    "print('|:----:|:----:|:----:|:----:|:----:|:----:|:----:|')\n",
    "# Find simulations\n",
    "for i,sim in enumerate(FileManager.get_simulations(path,param_filter)):\n",
    "    simname = i\n",
    "    sims[simname] = sims_classes['0404'](sim,simname)\n",
    "    x = sims[simname]\n",
    "    print('| {} | {} | {} | {} | {} | {} | {} |'.format(x.__name__,x.status,x.seed,x.version,x.template,x.factor,x.shear))"
   ]
  },
  {
   "cell_type": "markdown",
   "metadata": {},
   "source": [
    "# Checking crashed simulations"
   ]
  },
  {
   "cell_type": "code",
   "execution_count": 17,
   "metadata": {},
   "outputs": [
    {
     "name": "stdout",
     "output_type": "stream",
     "text": [
      "| id | Status | Seed | Version | Template | Factor | Shear |\n",
      "|:----:|:----:|:----:|:----:|:----:|:----:|:----:|:----:|\n",
      "| 0 | crashed | 1003 | New | master_with_shear | 0.01 | 20 |\n",
      "| 1 | crashed | 1003 | New | master_with_shear | 0.1 | 20 |\n",
      "| 2 | crashed | 1003 | New | master_with_shear | 0.1 | 20 |\n",
      "| 3 | crashed | 1003 | New | 02 | 0.01 | 10 |\n",
      "| 4 | crashed | 1003 | New | master_with_shear | 0.01 | 10 |\n",
      "| 5 | crashed | 1003 | New | 02 | 0.01 | 10 |\n",
      "| 6 | crashed | 1003 | New | 02 | 0.01 | 5 |\n",
      "| 7 | crashed | 1003 | New | master_with_shear | 0.1 | 5 |\n",
      "| 8 | crashed | 1003 | New | master_with_shear | 0.1 | 5 |\n",
      "| 9 | crashed | 1003 | New | 02 | 0.01 | 50 |\n",
      "| 10 | crashed | 1003 | New | master_with_shear | 0.1 | 50 |\n",
      "| 11 | crashed | 1003 | New | 03 | 0.1 | 50 |\n",
      "| 12 | crashed | 1003 | New | master_with_shear | 0.1 | 50 |\n",
      "| 13 | crashed | 1003 | New | 01 | 0.01 | 110 |\n"
     ]
    }
   ],
   "source": [
    "param_filter = {\n",
    "    \"status\" : \"crashed\",\n",
    "    \"template\" : [\"master_with_shear\",'01','02','03']\n",
    "}\n",
    "\n",
    "sims = {}\n",
    "\n",
    "print('| id | Status | Seed | Version | Template | Factor | Shear |')\n",
    "print('|:----:|:----:|:----:|:----:|:----:|:----:|:----:|:----:|')\n",
    "# Find simulations\n",
    "for i,sim in enumerate(FileManager.get_simulations(path,param_filter)):\n",
    "    simname = i\n",
    "    sims[simname] = sims_classes['0404'](sim,simname)\n",
    "    x = sims[simname]\n",
    "    print('| {} | {} | {} | {} | {} | {} | {} |'.format(x.__name__,x.status,x.seed,x.version,x.template,x.factor,x.shear))"
   ]
  },
  {
   "cell_type": "code",
   "execution_count": 18,
   "metadata": {},
   "outputs": [
    {
     "data": {
      "text/plain": [
       "'/global/cscratch1/sd/cramirez/CoLoRe_LSST/New/shear_110/nside_512/0.01/0/script/terminal_CoLoRe_LSST_29688350.log'"
      ]
     },
     "execution_count": 18,
     "metadata": {},
     "output_type": "execute_result"
    }
   ],
   "source": [
    "sims[13].terminal_file"
   ]
  },
  {
   "cell_type": "markdown",
   "metadata": {},
   "source": [
    "# Checking running simulations"
   ]
  },
  {
   "cell_type": "code",
   "execution_count": 8,
   "metadata": {},
   "outputs": [
    {
     "name": "stdout",
     "output_type": "stream",
     "text": [
      "| id | Status | Nodes | Seed | Version | Template | Factor | Shear |\n",
      "|:----:|:----:|:----:|:----:|:----:|:----:|:----:|:----:|\n"
     ]
    }
   ],
   "source": [
    "param_filter = {\n",
    "    \"status\" : \"running\"\n",
    "}\n",
    "\n",
    "sims = {}\n",
    "\n",
    "print('| id | Status | Nodes | Seed | Version | Template | Factor | Shear |')\n",
    "print('|:----:|:----:|:----:|:----:|:----:|:----:|:----:|:----:|')\n",
    "# Find simulations\n",
    "for i,sim in enumerate(FileManager.get_simulations(path,param_filter)):\n",
    "    simname = i\n",
    "    sims[simname] = sims_classes['0404'](sim,simname)\n",
    "    x = sims[simname]\n",
    "    x.set_memory_reader()\n",
    "    print('| {} | {} | {} | {} | {} | {} | {} | {} |'.format(x.__name__,x.status,x.nodes,x.seed,x.version,x.template,x.factor,x.shear))"
   ]
  },
  {
   "cell_type": "markdown",
   "metadata": {},
   "source": [
    "# Checking master simulations"
   ]
  },
  {
   "cell_type": "markdown",
   "metadata": {},
   "source": [
    "Working only with done simulations:"
   ]
  },
  {
   "cell_type": "code",
   "execution_count": 9,
   "metadata": {},
   "outputs": [
    {
     "name": "stdout",
     "output_type": "stream",
     "text": [
      "Deleting /global/cscratch1/sd/cramirez/CoLoRe_LSST/New_test/CoLoRe/.git/objects/info\n",
      "Deleting /global/cscratch1/sd/cramirez/CoLoRe_LSST/New_test/CoLoRe/.git/refs/tags\n",
      "Deleting /global/cscratch1/sd/cramirez/CoLoRe_LSST/New_test/CoLoRe/.git/branches\n",
      "Deleting /global/cscratch1/sd/cramirez/CoLoRe_LSST/New/shear_800/nside_512/0.1\n",
      "Deleting /global/cscratch1/sd/cramirez/CoLoRe_LSST/New/shear_800/nside_512\n",
      "Deleting /global/cscratch1/sd/cramirez/CoLoRe_LSST/New/shear_800\n",
      "| id | Nodes | Seed | Version | Template | Factor | Memory (GB) | Disk  | Time (s)|\n",
      " |:---:|:---:|:---:|:---:|:---:|:---:|:---:|:---:|:---:|\n",
      "| 5 | 10 | 1003 | master | master | 0.0001 | 770.653 | 210M | 613.9443 |\n",
      "| 6 | 10 | 1003 | master | master_with_shear | 0.0001 | 770.653 | 239M | 605.3347 |\n",
      "| 3 | 10 | 1003 | master | master | 0.001 | 770.884 | 362M | 618.6988 |\n",
      "| 0 | 10 | 1003 | master | master | 0.002 | 771.144 | 531M | 621.5599 |\n",
      "| 1 | 10 | 1003 | master | master | 0.01 | 773.214 | 1.9G | 719.665 |\n",
      "| 2 | 10 | 1003 | master | master_with_shear | 0.01 | 773.214 | 1.9G | 724.2633000000001 |\n",
      "| 4 | 10 | 1003 | master | master | 0.1 | 796.543 | 17G | 1594.8759 |\n"
     ]
    }
   ],
   "source": [
    "try:\n",
    "    param_filter = {\n",
    "        \"version\" : [\"master\"],\n",
    "        \"status\" : \"done\",\n",
    "        \"template\" : [\"01\",\"02\",\"master_with_shear\",'master']\n",
    "    }\n",
    "    sims = {}\n",
    "\n",
    "    # Delete empty directories\n",
    "    FileManager.remove_empty_dirs(path)\n",
    "\n",
    "    # Find simulations\n",
    "    for i,sim in enumerate(FileManager.get_simulations(path,param_filter)):\n",
    "        simname = i\n",
    "        sims[simname] = sims_classes['0404'](sim,simname)\n",
    "\n",
    "    # Getting informations    \n",
    "    for x in sims.keys():\n",
    "        sims[x].set_time_reader()\n",
    "        sims[x].set_memory_reader()\n",
    "        sims[x].set_size()\n",
    "        \n",
    "    print('| id | Nodes | Seed | Version | Template | Factor | Memory (GB) | Disk  | Time (s)|')\n",
    "    print(' |:---:|:---:|:---:|:---:|:---:|:---:|:---:|:---:|:---:|')\n",
    "    for sim in sorted(sims.items(), key = lambda x: x[1].factor):\n",
    "        x = sim[1]\n",
    "        print('| {} | {} | {} | {} | {} | {} | {} | {} | {} |'.format(x.__name__,x.nodes,x.seed,x.version,x.template,x.factor,x.memory_reader.tasks['Total']['Memory']/1000, x.size,x.time_reader.times[\"Total\"]/1000))\n",
    "#         print('id: {}\\tNodes: {}\\tSeed: {}\\tVersion: {}\\t  Factor: {}   \\tMemory: {} GB\\tSize: {}\\tTime: {} s'.format(x.__name__,x.nodes,x.seed,x.version,x.factor,x.memory_reader.tasks['Total']['Memory']/1000, x.size,x.times[\"Total\"]/1000))\n",
    "except :\n",
    "    print(sims[x].location)\n",
    "    raise"
   ]
  },
  {
   "cell_type": "markdown",
   "metadata": {},
   "source": [
    "# Checking Old simulations"
   ]
  },
  {
   "cell_type": "code",
   "execution_count": 10,
   "metadata": {},
   "outputs": [
    {
     "name": "stdout",
     "output_type": "stream",
     "text": [
      "| id | Status | Nodes | Seed | Version | Template | Factor | Shear | Memory (GB) | Disk  | Time (s)|\n",
      " |:---:|:----:|:---:|:---:|:---:|:---:|:---:|:---:|:---:|:---:|:---:|\n",
      "| 8 | done | 10 | 1003 | Old | master | 0.0001 | 5 | 770.653 | 210M | 672.7281 |\n",
      "| 0 | done | 10 | 1003 | Old | master_with_shear | 0.0001 | 800 | 770.653 | 210M | 686.1714 |\n",
      "| 7 | done | 10 | 1003 | Old | master_with_shear | 0.0001 | 5 | 770.653 | 210M | 679.4051 |\n",
      "| 5 | done | 10 | 1003 | Old | master | 0.001 | 5 | 770.884 | 359M | 671.245 |\n",
      "| 4 | done | 10 | 1003 | Old | master_with_shear | 0.001 | 5 | 770.884 | 359M | 682.564 |\n",
      "| 1 | done | 10 | 1003 | Old | master_with_shear | 0.002 | 5 | 771.144 | 525M | 691.2524 |\n",
      "| 2 | done | 10 | 1003 | Old | master | 0.01 | 5 | 773.214 | 1.9G | 804.6732 |\n",
      "| 3 | done | 10 | 1003 | Old | master_with_shear | 0.01 | 5 | 773.214 | 1.9G | 789.9322 |\n",
      "| 6 | done | 10 | 1003 | Old | master_with_shear | 0.1 | 5 | 796.543 | 17G | 1588.4456 |\n"
     ]
    }
   ],
   "source": [
    "print('| id | Status | Nodes | Seed | Version | Template | Factor | Shear | Memory (GB) | Disk  | Time (s)|')\n",
    "print(' |:---:|:----:|:---:|:---:|:---:|:---:|:---:|:---:|:---:|:---:|:---:|')\n",
    "try:\n",
    "    param_filter_done = {\n",
    "        \"version\" : [\"Old\"],\n",
    "        \"status\" : [\"done\",\"crashed\"],\n",
    "        \"template\" : [\"master_with_shear\",\"master\"]\n",
    "    }\n",
    "\n",
    "    sims = {}\n",
    "\n",
    "    # Delete empty directories\n",
    "    FileManager.remove_empty_dirs(path)\n",
    "\n",
    "    # Find simulations\n",
    "    for i,sim in enumerate(FileManager.get_simulations(path,param_filter_done)):\n",
    "        simname = i\n",
    "        sims[simname] = sims_classes['0404'](sim,simname)\n",
    "    \n",
    "    # Getting informations    \n",
    "    for x in sims.keys():\n",
    "        if sims[x].status == 'done': \n",
    "            sims[x].set_time_reader()\n",
    "            \n",
    "        sims[x].set_memory_reader()\n",
    "        sims[x].set_size()\n",
    "        \n",
    "    for sim in sorted(sims.items(), key = lambda x: (x[1].factor,x[1].template)):\n",
    "        x = sim[1]\n",
    "        total_time = round(x.time_reader.times[\"Total\"]/1000 if x.status == 'done' else' ',4)\n",
    "        print('| {} | {} | {} | {} | {} | {} | {} | {} | {} | {} | {} |'.format(x.__name__,x.status,x.nodes,x.seed,x.version,x.template,x.factor,x.shear,x.memory_reader.tasks['Total']['Memory']/1000, x.size,total_time))\n",
    "#         print('id: {}\\tNodes: {}\\tSeed: {}\\tVersion: {}\\t  Factor: {}   \\tMemory: {} GB\\tSize: {}\\tTime: {} s'.format(x.__name__,x.nodes,x.seed,x.version,x.factor,x.memory_reader.tasks['Total']['Memory']/1000, x.size,x.times[\"Total\"]/1000))\n",
    "   \n",
    "except :\n",
    "    raise"
   ]
  },
  {
   "cell_type": "code",
   "execution_count": 11,
   "metadata": {},
   "outputs": [
    {
     "name": "stdout",
     "output_type": "stream",
     "text": [
      "| id | Status | Nodes | Seed | Version | Template | Factor | Shear | Memory (GB) | Disk  | Time (s)|\n",
      " |:---:|:----:|:---:|:---:|:---:|:---:|:---:|:---:|:---:|:---:|:---:|\n",
      "| 0 | done | 10 | 1003 | New | 03 | 0.0001 | 20 | 770.978 | 18M | 673.322 |\n",
      "| 1 | done | 10 | 1003 | New | 03 | 0.01 | 50 | 774.598 | 1.1G | 674.531 |\n",
      "| 2 | crashed | 10 | 1003 | New | 03 | 0.1 | 50 | 797.92 | 420K |   |\n"
     ]
    }
   ],
   "source": [
    "print('| id | Status | Nodes | Seed | Version | Template | Factor | Shear | Memory (GB) | Disk  | Time (s)|')\n",
    "print(' |:---:|:----:|:---:|:---:|:---:|:---:|:---:|:---:|:---:|:---:|:---:|')\n",
    "try:\n",
    "    param_filter_done = {\n",
    "        \"version\" : [\"New\"],\n",
    "        \"status\" : [\"done\",\"crashed\"],\n",
    "        \"template\" : ['03']\n",
    "    }\n",
    "\n",
    "    sims = {}\n",
    " \n",
    "    # Delete empty directories\n",
    "    FileManager.remove_empty_dirs(path)\n",
    "\n",
    "    # Find simulations\n",
    "    for i,sim in enumerate(FileManager.get_simulations(path,param_filter_done)):\n",
    "        simname = i\n",
    "        sims[simname] = sims_classes['0404'](sim,simname)\n",
    "    \n",
    "    # Getting informations    \n",
    "    for x in sims.keys():\n",
    "        if sims[x].status == 'done': \n",
    "            sims[x].set_time_reader()\n",
    "            \n",
    "        sims[x].set_memory_reader()\n",
    "        sims[x].set_size()\n",
    "        \n",
    "    for sim in sorted(sims.items(), key = lambda x: (x[1].factor,'0' if x[1].template=='master_with_shear' else x[1].template)):\n",
    "        x = sim[1]\n",
    "        total_time = x.time_reader.times[\"Total\"]/1000 if x.status == 'done' else' '\n",
    "        print('| {} | {} | {} | {} | {} | {} | {} | {} | {} | {} | {} |'.format(x.__name__,x.status,x.nodes,x.seed,x.version,x.template,x.factor,x.shear,x.memory_reader.tasks['Total']['Memory']/1000, x.size,total_time))\n",
    "#         print('id: {}\\tNodes: {}\\tSeed: {}\\tVersion: {}\\t  Factor: {}   \\tMemory: {} GB\\tSize: {}\\tTime: {} s'.format(x.__name__,x.nodes,x.seed,x.version,x.factor,x.memory_reader.tasks['Total']['Memory']/1000, x.size,x.times[\"Total\"]/1000))\n",
    "   \n",
    "except :\n",
    "    print(sims[x].location)\n",
    "    print(sims[x].__name__)\n",
    "    raise"
   ]
  },
  {
   "cell_type": "code",
   "execution_count": null,
   "metadata": {},
   "outputs": [],
   "source": []
  },
  {
   "cell_type": "code",
   "execution_count": 25,
   "metadata": {},
   "outputs": [
    {
     "name": "stdout",
     "output_type": "stream",
     "text": [
      "| id | Status | Nodes | Seed | Version | Template | Factor | Shear | Memory (GB) | Disk  | Time (s)| Preparation Date\n",
      " |:---:|:----:|:---:|:---:|:---:|:---:|:---:|:---:|:---:|:---:|:---:|:----:|\n",
      "| 1 | done | 10 | 1003 | New | master_with_shear | 0.0001 | 20 | 771.352 | 210M | 684.8545 | 202004160316 |\n",
      "| 2 | done | 10 | 1003 | New | master_with_shear | 0.0001 | 10 | 771.005 | 210M | 698.1072 | 202004160338 |\n",
      "| 4 | done | 10 | 1003 | master | master_with_shear | 0.0001 | None | 770.653 | 239M | 605.3347 | 20200416093643 |\n",
      "| 5 | done | 10 | 1003 | Old | master_with_shear | 0.0001 | 800 | 770.653 | 210M | 686.1714 | 202004150812 |\n",
      "| 8 | done | 10 | 1003 | Old | master_with_shear | 0.0001 | 5 | 770.653 | 210M | 679.4051 | 202004150813 |\n",
      "| 0 | done | 10 | 1003 | New | master_with_shear | 0.1 | 20 | 797.242 | 17G | 694.667 | 20200521010157 |\n",
      "| 7 | done | 10 | 1003 | Old | master_with_shear | 0.1 | 5 | 796.543 | 17G | 1588.4456 | 202004150835 |\n"
     ]
    }
   ],
   "source": [
    "print('| id | Status | Nodes | Seed | Version | Template | Factor | Shear | Memory (GB) | Disk  | Time (s)| Preparation Date')\n",
    "print(' |:---:|:----:|:---:|:---:|:---:|:---:|:---:|:---:|:---:|:---:|:---:|:----:|')\n",
    "try:\n",
    "    param_filter_done = {\n",
    "        \"status\" : [\"done\"],\n",
    "        \"template\" : ['master_with_shear'],\n",
    "        \"factor\" : [0.0001,0.01,0.1]\n",
    "    }\n",
    "\n",
    "    sims = {}\n",
    " \n",
    "    # Delete empty directories\n",
    "    FileManager.remove_empty_dirs(path)\n",
    "\n",
    "    # Find simulations\n",
    "    for i,sim in enumerate(FileManager.get_simulations(path,param_filter_done)):\n",
    "        simname = i\n",
    "        sims[simname] = sims_classes['0404'](sim,simname)\n",
    "    \n",
    "    # Getting informations    \n",
    "    for x in sims.keys():\n",
    "        if sims[x].status == 'done': \n",
    "            sims[x].set_time_reader()\n",
    "            \n",
    "        sims[x].set_memory_reader()\n",
    "        sims[x].set_size()\n",
    "        sims[x].set_shear_reader()\n",
    "        \n",
    "    for sim in sorted(sims.items(), key = lambda x: ('0' if x[1].template=='master_with_shear' else x[1].template,x[1].factor)):\n",
    "        x = sim[1]\n",
    "        if (x.factor == '0.01'):\n",
    "            if (x.template == 'master_with_shear'):\n",
    "                continue\n",
    "        total_time = round(x.time_reader.times[\"Total\"]/1000 if x.status == 'done' else 0,4)\n",
    "        print('| {} | {} | {} | {} | {} | {} | {} | {} | {} | {} | {} | {} |'.format(x.__name__,x.status,x.nodes,x.seed,x.version,x.template,x.factor,x.shear,x.memory_reader.tasks['Total']['Memory']/1000, x.size,total_time, x.preparation_time))\n",
    "#         print('id: {}\\tNodes: {}\\tSeed: {}\\tVersion: {}\\t  Factor: {}   \\tMemory: {} GB\\tSize: {}\\tTime: {} s'.format(x.__name__,x.nodes,x.seed,x.version,x.factor,x.memory_reader.tasks['Total']['Memory']/1000, x.size,x.times[\"Total\"]/1000))\n",
    "   \n",
    "except :\n",
    "    print(sims[x].location)\n",
    "    print(sims[x].__name__)\n",
    "    raise"
   ]
  },
  {
   "cell_type": "code",
   "execution_count": 24,
   "metadata": {},
   "outputs": [
    {
     "data": {
      "text/plain": [
       "'20200521010157'"
      ]
     },
     "execution_count": 24,
     "metadata": {},
     "output_type": "execute_result"
    }
   ],
   "source": [
    "sims[0].preparation_time"
   ]
  },
  {
   "cell_type": "code",
   "execution_count": null,
   "metadata": {},
   "outputs": [],
   "source": []
  }
 ],
 "metadata": {
  "kernelspec": {
   "display_name": "CoLoReEnv",
   "language": "python",
   "name": "colore_env"
  },
  "language_info": {
   "codemirror_mode": {
    "name": "ipython",
    "version": 3
   },
   "file_extension": ".py",
   "mimetype": "text/x-python",
   "name": "python",
   "nbconvert_exporter": "python",
   "pygments_lexer": "ipython3",
   "version": "3.8.0"
  }
 },
 "nbformat": 4,
 "nbformat_minor": 4
}
