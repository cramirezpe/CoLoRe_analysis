{
 "cells": [
  {
   "cell_type": "code",
   "execution_count": 28,
   "metadata": {},
   "outputs": [],
   "source": [
    "import sys, os\n",
    "import imp\n",
    "import matplotlib.gridspec as gridspec\n",
    "import matplotlib.pyplot as plt\n",
    "import numpy as np\n",
    "sys.path.insert(0,'./lib')\n",
    "import sims_reader as timean\n",
    "import timeit\n",
    "import glob\n",
    "from sims_reader import (FileManager, MemoryReader, FilterList, Simulation, Sim0404)\n",
    "from correlations import CorrelateTwoShears"
   ]
  },
  {
   "cell_type": "code",
   "execution_count": 29,
   "metadata": {},
   "outputs": [],
   "source": [
    "def print_sims(path,param_filter):\n",
    "    sims = {}\n",
    "    print('| id | commit | Status | Nodes | Seed | Version | Template | Factor | Shear | Nside | Memory (GB) | Disk  | Time (s)| Preparation Date')\n",
    "    print(' |:---:|:----:|:----:|:---:|:---:|:---:|:---:|:---:|:---:|:---:|:---:|:---:|:----:|:----:|')\n",
    " \n",
    "    # Delete empty directories\n",
    "    FileManager.remove_empty_dirs(path)\n",
    "\n",
    "    # Find simulations\n",
    "    for i,sim in enumerate(FileManager.get_simulations(path,param_filter)):\n",
    "        simname = i\n",
    "        sims[simname] = Sim0404(sim,simname)\n",
    "    \n",
    "    # Getting informations    \n",
    "    for x in sims.keys():\n",
    "        if sims[x].status == 'done': \n",
    "            sims[x].set_time_reader()\n",
    "            \n",
    "        sims[x].set_memory_reader()\n",
    "        sims[x].set_size()\n",
    "        sims[x].set_shear_reader()\n",
    "        \n",
    "    for sim in sims.items():#sorted(sims.items(), key = lambda x: ('0' if x[1].template=='master_with_shear' else x[1].__name__)):\n",
    "        x = sim[1]\n",
    "        total_time = round(x.time_reader.times[\"Total\"]/1000 if x.status == 'done' else 0,4)\n",
    "        print('| {} | {} | {} | {} | {} | {} | {} | {} | {} | {} | {} | {} | {} | {} |'.format(x.__name__,x.commit,x.status,x.nodes,x.seed,x.version,x.template,x.factor,x.shear,x.nside,x.memory_reader.tasks['Total']['Memory']/1000, x.size,total_time, x.preparation_time))\n",
    "    return sims"
   ]
  },
  {
   "cell_type": "code",
   "execution_count": 3,
   "metadata": {},
   "outputs": [],
   "source": [
    "import logging.config\n",
    "logging.basicConfig(stream=sys.stdout, level=logging.WARNING)"
   ]
  },
  {
   "cell_type": "code",
   "execution_count": 4,
   "metadata": {},
   "outputs": [],
   "source": [
    "path = \"/global/cscratch1/sd/cramirez/CoLoRe_LSST/\""
   ]
  },
  {
   "cell_type": "code",
   "execution_count": 5,
   "metadata": {},
   "outputs": [
    {
     "name": "stdout",
     "output_type": "stream",
     "text": [
      "| id | commit | Status | Nodes | Seed | Version | Template | Factor | Shear | Nside | Memory (GB) | Disk  | Time (s)| Preparation Date\n",
      " |:---:|:----:|:----:|:---:|:---:|:---:|:---:|:---:|:---:|:---:|:---:|:---:|:----:|:----:|\n",
      "| 0 | 2005 | done | 10 | 1003 | New | shear_test | 0 | 50 | 512 | 3.354 | 290M | 2.8483 | 20200525035601 |\n",
      "| 1 | None | done | 10 | 1003 | master | shear_test | 0 | None | None | 1.596 | 318M | 2.0673 | 20200416101437 |\n",
      "| 2 | None | done | 1 | 1003 | master | shear_test | 0 | None | None | 1.568 | 318M | 3.7632 | 20200416101449 |\n",
      "| 3 | 0404 | done | 10 | 1003 | Old | shear_test | 0 | 20 | 512 | 1.596 | 318M | 1.9141 | 20200416101416 |\n",
      "| 4 | 2005 | done | 10 | 1003 | Old | shear_test | 0 | 50 | 512 | 1.596 | 290M | 2.0455 | 20200525035754 |\n",
      "| 5 | 2005 | done | 10 | 1003 | Old | shear_test | 0 | 50 | 512 | 1.596 | 290M | 2.0163 | 20200525034124 |\n"
     ]
    }
   ],
   "source": [
    "filt = {\n",
    "    \"status\" : [\"done\"],\n",
    "    \"template\": [\"shear_test\"],\n",
    "    \"factor\" : [0]\n",
    "}\n",
    "\n",
    "sims = print_sims(path,filt)"
   ]
  },
  {
   "cell_type": "code",
   "execution_count": 6,
   "metadata": {},
   "outputs": [],
   "source": [
    "new = sims[0]\n",
    "old = sims[4]\n",
    "master = sims[1]"
   ]
  },
  {
   "cell_type": "code",
   "execution_count": 39,
   "metadata": {},
   "outputs": [
    {
     "data": {
      "text/plain": [
       "'/global/cscratch1/sd/cramirez/CoLoRe_LSST/Old/shear_50/nside_512/0/20200525035754'"
      ]
     },
     "execution_count": 39,
     "metadata": {},
     "output_type": "execute_result"
    }
   ],
   "source": [
    "old.location"
   ]
  },
  {
   "cell_type": "code",
   "execution_count": 40,
   "metadata": {},
   "outputs": [
    {
     "data": {
      "text/plain": [
       "'/global/cscratch1/sd/cramirez/CoLoRe_LSST/master/0/20200416101437'"
      ]
     },
     "execution_count": 40,
     "metadata": {},
     "output_type": "execute_result"
    }
   ],
   "source": [
    "master.location"
   ]
  },
  {
   "cell_type": "code",
   "execution_count": 7,
   "metadata": {},
   "outputs": [],
   "source": [
    "new_vals = new.shear_reader.get_values('mp_e1',compute=True)\n",
    "old_vals = old.shear_reader.get_values('mp_e1',compute=True)\n",
    "master_vals = master.shear_reader.get_values('mp_e1',compute=True)"
   ]
  },
  {
   "cell_type": "code",
   "execution_count": 8,
   "metadata": {},
   "outputs": [
    {
     "name": "stderr",
     "output_type": "stream",
     "text": [
      "<ipython-input-8-159782574253>:1: RuntimeWarning: invalid value encountered in true_divide\n",
      "  new_vals/old_vals\n"
     ]
    },
    {
     "data": {
      "text/plain": [
       "array([3.46065294, 0.82499841, 1.09755302, ..., 0.68180964, 1.1161305 ,\n",
       "       0.77726462])"
      ]
     },
     "execution_count": 8,
     "metadata": {},
     "output_type": "execute_result"
    }
   ],
   "source": [
    "new_vals/old_vals"
   ]
  },
  {
   "cell_type": "code",
   "execution_count": 9,
   "metadata": {},
   "outputs": [
    {
     "name": "stderr",
     "output_type": "stream",
     "text": [
      "<ipython-input-9-611806ce10c7>:1: RuntimeWarning: invalid value encountered in true_divide\n",
      "  old_vals/master_vals\n"
     ]
    },
    {
     "data": {
      "text/plain": [
       "array([1., 1., 1., ..., 1., 1., 1.])"
      ]
     },
     "execution_count": 9,
     "metadata": {},
     "output_type": "execute_result"
    }
   ],
   "source": [
    "old_vals/master_vals"
   ]
  },
  {
   "cell_type": "code",
   "execution_count": 12,
   "metadata": {},
   "outputs": [
    {
     "data": {
      "image/png": "[encoded data removed]",
      "text/plain": [
       "<Figure size 432x288 with 1 Axes>"
      ]
     },
     "metadata": {
      "needs_background": "light"
     },
     "output_type": "display_data"
    }
   ],
   "source": [
    "plt.scatter(old_vals,master_vals, s=0.5)\n",
    "plt.show()"
   ]
  },
  {
   "cell_type": "markdown",
   "metadata": {},
   "source": [
    "# CLS test"
   ]
  },
  {
   "cell_type": "code",
   "execution_count": 15,
   "metadata": {},
   "outputs": [],
   "source": [
    "def plotpower(ld,values,labels=None, colors=None, lw=2,\n",
    "              ylabel='$C_{\\\\ell \\mathrm{new}}/C_{\\\\ell \\mathrm{old}}$', \n",
    "              legend = False, legloc = \"lower left\", legframeon = False, leglabelspacing = 0.1, legncol = 2,\n",
    "              xlim=[2,192], ylim = None,\n",
    "               filename=\"\", title =\"\",path_save_figures=\"\"):\n",
    "        \n",
    "    plt.figure()\n",
    "    if labels is None: labels = [''  for i in range(len(values))]\n",
    "        \n",
    "    if colors is not None:\n",
    "        for i in range(len(values)):\n",
    "            plt.plot(ld,values[i], colors[i]+'-', lw=lw,\n",
    "                     label=labels[i])\n",
    "    else:\n",
    "        for i in range(len(values)):\n",
    "            plt.plot(ld,values[i],lw=lw, label = labels[i])\n",
    "    plt.xlabel('$\\\\ell$', fontsize=16)\n",
    "    plt.ylabel(ylabel)\n",
    "    plt.xlim(xlim)\n",
    "    if ylim is not None:\n",
    "        plt.ylim(ylim)\n",
    "    if legend: plt.legend(loc=legloc, frameon=legframeon, labelspacing=leglabelspacing, ncol=legncol)\n",
    "    if title != \"\":\n",
    "        plt.title(title)\n",
    "    if filename != \"\":\n",
    "        plt.savefig(path_save_figures+filename+'.png',format='png')"
   ]
  },
  {
   "cell_type": "code",
   "execution_count": 16,
   "metadata": {},
   "outputs": [],
   "source": [
    "cld_dd_string = '$\\\\delta_g\\\\times\\\\delta_g$'\n",
    "cld_de_string = '$\\\\gamma^E_g\\\\times\\\\delta_g$'\n",
    "cld_ee_string = '$\\\\gamma^E_g\\\\times\\\\gamma^E_g$'\n",
    "cld_bb_string = '$\\\\gamma^B_g\\\\times\\\\gamma^B_g$'\n",
    "cld_eb_string = '$\\\\gamma^E_g\\\\times\\\\gamma^B_g$'\n",
    "cld_db_string = '$\\\\gamma^B_g\\\\times\\\\delta_g$'\n",
    "cld_kd_string = '$\\\\kappa-\\\\delta_g$'\n",
    "cld_kk_string = '$\\\\kappa-\\\\kappa$'\n",
    "strings = ['cld_dd','cld_ee','cld_de','cld_bb']\n",
    "labels = [cld_dd_string, cld_ee_string,cld_de_string,cld_bb_string]\n",
    "colors = ['r','y','c','m']"
   ]
  },
  {
   "cell_type": "code",
   "execution_count": 30,
   "metadata": {},
   "outputs": [
    {
     "data": {
      "text/plain": [
       "'/global/cscratch1/sd/cramirez/CoLoRe_LSST/New/shear_50/nside_512/0/20200525035601'"
      ]
     },
     "execution_count": 30,
     "metadata": {},
     "output_type": "execute_result"
    }
   ],
   "source": [
    "new.location"
   ]
  },
  {
   "cell_type": "code",
   "execution_count": 31,
   "metadata": {},
   "outputs": [
    {
     "data": {
      "text/plain": [
       "'/global/cscratch1/sd/cramirez/CoLoRe_LSST/New/shear_50/nside_512/0/20200525035601'"
      ]
     },
     "execution_count": 31,
     "metadata": {},
     "output_type": "execute_result"
    }
   ],
   "source": [
    "new.location"
   ]
  },
  {
   "cell_type": "code",
   "execution_count": 32,
   "metadata": {},
   "outputs": [
    {
     "name": "stderr",
     "output_type": "stream",
     "text": [
      "<ipython-input-32-d048e1aa0bf7>:2: RuntimeWarning: invalid value encountered in true_divide\n",
      "  values   = [new.shear_reader.get_values(string,source=1,compute=True)/old.shear_reader.get_values(string,source=1,compute=True) for string in strings]\n",
      "<ipython-input-32-d048e1aa0bf7>:3: RuntimeWarning: invalid value encountered in true_divide\n",
      "  values_1 = [old.shear_reader.get_values(string,source=1,compute=True)/master.shear_reader.get_values(string,source=1,compute=True) for string in strings]\n"
     ]
    }
   ],
   "source": [
    "ld       = new.shear_reader.get_values('ld',source=1,compute=True)\n",
    "values   = [new.shear_reader.get_values(string,source=1,compute=True)/old.shear_reader.get_values(string,source=1,compute=True) for string in strings]\n",
    "values_1 = [old.shear_reader.get_values(string,source=1,compute=True)/master.shear_reader.get_values(string,source=1,compute=True) for string in strings]"
   ]
  },
  {
   "cell_type": "code",
   "execution_count": null,
   "metadata": {},
   "outputs": [],
   "source": [
    "fig, ax = plt.subplots()\n",
    "\n",
    "ax.plot()"
   ]
  },
  {
   "cell_type": "code",
   "execution_count": 37,
   "metadata": {},
   "outputs": [
    {
     "data": {
      "text/plain": [
       "(0.5, 1.5)"
      ]
     },
     "execution_count": 37,
     "metadata": {},
     "output_type": "execute_result"
    },
    {
     "data": {
      "image/png": "[encoded data removed]",
      "text/plain": [
       "<Figure size 432x288 with 1 Axes>"
      ]
     },
     "metadata": {
      "needs_background": "light"
     },
     "output_type": "display_data"
    }
   ],
   "source": [
    "plotpower(ld,values,labels=labels,colors=colors,legend=True,legloc='upper left')\n",
    "plt.ylim(0.5,1.5)"
   ]
  },
  {
   "cell_type": "code",
   "execution_count": 38,
   "metadata": {},
   "outputs": [
    {
     "data": {
      "image/png": "[encoded data removed]",
      "text/plain": [
       "<Figure size 432x288 with 1 Axes>"
      ]
     },
     "metadata": {
      "needs_background": "light"
     },
     "output_type": "display_data"
    }
   ],
   "source": [
    "plotpower(ld,values_1,labels=labels,colors=colors,legend=True,legloc='upper left')"
   ]
  },
  {
   "cell_type": "code",
   "execution_count": null,
   "metadata": {},
   "outputs": [],
   "source": []
  }
 ],
 "metadata": {
  "kernelspec": {
   "display_name": "CoLoReEnv",
   "language": "python",
   "name": "colore_env"
  },
  "language_info": {
   "codemirror_mode": {
    "name": "ipython",
    "version": 3
   },
   "file_extension": ".py",
   "mimetype": "text/x-python",
   "name": "python",
   "nbconvert_exporter": "python",
   "pygments_lexer": "ipython3",
   "version": "3.8.0"
  }
 },
 "nbformat": 4,
 "nbformat_minor": 4
}
