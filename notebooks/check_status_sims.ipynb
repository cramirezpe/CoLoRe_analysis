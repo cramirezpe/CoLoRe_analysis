{
 "cells": [
  {
   "cell_type": "code",
   "execution_count": 1,
   "metadata": {},
   "outputs": [],
   "source": [
    "import sys, os\n",
    "sys.path.insert(1,'..')\n",
    "import imp\n",
    "import matplotlib.gridspec as gridspec\n",
    "import matplotlib.pyplot as plt\n",
    "import numpy as np\n",
    "sys.path.insert(0,'./lib')\n",
    "import timeit\n",
    "from lib.file_manager import (FileManager, FilterList)\n",
    "from lib.sims_reader import (MemoryReader, Simulation, Sim0404)\n",
    "import filecmp\n",
    "import tailer"
   ]
  },
  {
   "cell_type": "code",
   "execution_count": 2,
   "metadata": {},
   "outputs": [],
   "source": [
    "path = \"/global/cscratch1/sd/cramirez/CoLoRe_LSST/\"\n",
    "sims_classes = {\n",
    "    '0404' : Sim0404\n",
    "}"
   ]
  },
  {
   "cell_type": "markdown",
   "metadata": {},
   "source": [
    "# Garbage start\n"
   ]
  },
  {
   "cell_type": "code",
   "execution_count": 13,
   "metadata": {},
   "outputs": [],
   "source": [
    "filt = {\n",
    "    \"version\" : ['New'],\n",
    "    \"status\" : [\"done\"],\n",
    "    \"template\": [\"master_with_shear\"],\n",
    "    \"factor\" : [0.01,0.1],\n",
    "    \"shear\" : [5,20,30,40,50,100],\n",
    "    \"nside\" : [512,1024,2048],\n",
    "    \"commit\" : \"2005\"\n",
    "}"
   ]
  },
  {
   "cell_type": "code",
   "execution_count": 14,
   "metadata": {},
   "outputs": [
    {
     "name": "stdout",
     "output_type": "stream",
     "text": [
      "| id | commit | Status | Nodes | Seed | Version | Template | Factor | Shear | Nside | Memory (GB) | Disk  | Time (s)| Preparation Date\n",
      " |:---:|:----:|:----:|:---:|:---:|:---:|:---:|:---:|:---:|:---:|:---:|:---:|:----:|:----:|\n",
      "| 0 | 2005 | done | 10 | 1003 | New | master_with_shear | 0.1 | 20 | 512 | 797.242 | 22G | 694.667 | 20200521010157 |\n",
      "| 1 | 2005 | done | 10 | 1003 | New | master_with_shear | 0.01 | 20 | 512 | 773.922 | 7.1G | 677.6237 | 20200522145442 |\n",
      "| 2 | 2005 | done | 10 | 1003 | New | master_with_shear | 0.01 | 5 | 512 | 773.395 | 7.1G | 685.0769 | 20200522152308 |\n",
      "| 3 | 2005 | done | 10 | 1003 | New | master_with_shear | 0.01 | 50 | 512 | 774.972 | 7.5G | 705.7613 | 20200524151420 |\n",
      "| 4 | 2005 | done | 10 | 1003 | New | master_with_shear | 0.1 | 50 | 512 | 798.301 | 23G | 714.4561 | 20200524151531 |\n",
      "| 5 | 2005 | done | 10 | 1003 | New | master_with_shear | 0.1 | 50 | 1024 | 803.568 | 23G | 758.3614 | 20200524151546 |\n",
      "| 6 | 2005 | done | 10 | 1003 | New | master_with_shear | 0.01 | 50 | 1024 | 780.248 | 7.5G | 721.7154 | 20200524151657 |\n",
      "| 7 | 2005 | done | 10 | 1003 | New | master_with_shear | 0.01 | 100 | 512 | 776.732 | 7.5G | 696.3902 | 20200524154935 |\n",
      "| 8 | 2005 | done | 10 | 1003 | New | master_with_shear | 0.1 | 100 | 512 | 800.052 | 23G | 720.38 | 20200524155210 |\n",
      "| 9 | 2005 | done | 10 | 1003 | New | master_with_shear | 0.1 | 50 | 2048 | 824.665 | 23G | 819.1282 | 20200528044545 |\n",
      "| 10 | 2005 | done | 10 | 1003 | New | master_with_shear | 0.01 | 50 | 2048 | 801.345 | 7.6G | 799.8218 | 20200529032916 |\n",
      "| 11 | 2005 | done | 10 | 1003 | New | master_with_shear | 0.01 | 30 | 512 | 774.273 | 7.6G | 674.014 | 20200529043731 |\n",
      "| 12 | 2005 | done | 10 | 1003 | New | master_with_shear | 0.01 | 40 | 512 | 774.627 | 7.6G | 695.1635 | 20200529043742 |\n"
     ]
    }
   ],
   "source": [
    "sims = FileManager.print_sims_table(path,filt)"
   ]
  },
  {
   "cell_type": "code",
   "execution_count": 12,
   "metadata": {},
   "outputs": [
    {
     "data": {
      "text/plain": [
       "'/global/cscratch1/sd/cramirez/CoLoRe_LSST/New/shear_40/nside_512/0.01/20200529043742'"
      ]
     },
     "execution_count": 12,
     "metadata": {},
     "output_type": "execute_result"
    }
   ],
   "source": [
    "sims[12].location"
   ]
  },
  {
   "cell_type": "markdown",
   "metadata": {},
   "source": [
    "# Garbage end\n"
   ]
  },
  {
   "cell_type": "markdown",
   "metadata": {},
   "source": [
    "# Some useful functions"
   ]
  },
  {
   "cell_type": "code",
   "execution_count": 3,
   "metadata": {},
   "outputs": [],
   "source": [
    "def compare_helper(sima,simb,file_in_sim,program=\"diff\"):\n",
    "    return program + ' ' + sima.location + '/' + file_in_sim + ' ' + simb.location + '/' + file_in_sim\n",
    "\n",
    "def read_file(file,program='lessn'):\n",
    "    print(program + ' ' + file)\n",
    "    \n",
    "def get_tail(file,lines=3):\n",
    "    lines = tailer.tail(open(file), lines)\n",
    "    for line in lines:\n",
    "        print(line)"
   ]
  },
  {
   "cell_type": "markdown",
   "metadata": {},
   "source": [
    "# Getting sims locations and status"
   ]
  },
  {
   "cell_type": "code",
   "execution_count": 4,
   "metadata": {},
   "outputs": [],
   "source": [
    "all_sims = []"
   ]
  },
  {
   "cell_type": "code",
   "execution_count": 5,
   "metadata": {},
   "outputs": [
    {
     "name": "stdout",
     "output_type": "stream",
     "text": [
      "Prepared\n",
      "/global/cscratch1/sd/cramirez/CoLoRe_LSST/New/shear_30/nside_2048/0.01/20200529043537\n",
      "\n",
      "Crashed\n",
      "/global/cscratch1/sd/cramirez/CoLoRe_LSST/New/shear_50/nside_512/202004141536/0.01\n",
      "/global/cscratch1/sd/cramirez/CoLoRe_LSST/New/shear_110/nside_512/0.01/0\n",
      "/global/cscratch1/sd/cramirez/CoLoRe_LSST/New/shear_50/nside_512/0.1/202004141640\n",
      "/global/cscratch1/sd/cramirez/CoLoRe_LSST/New/shear_10/nside_512/0.01/202004150134\n",
      "/global/cscratch1/sd/cramirez/CoLoRe_LSST/New/shear_10/nside_512/0.01/202004150212\n",
      "/global/cscratch1/sd/cramirez/CoLoRe_LSST/New/shear_5/nside_512/0.01/202004150238\n",
      "/global/cscratch1/sd/cramirez/CoLoRe_LSST/New/shear_5/nside_512/0.1/202004150853\n",
      "/global/cscratch1/sd/cramirez/CoLoRe_LSST/New/shear_20/nside_512/0.1/202004151040\n",
      "/global/cscratch1/sd/cramirez/CoLoRe_LSST/New/shear_50/nside_512/0.1/202004151041\n",
      "/global/cscratch1/sd/cramirez/CoLoRe_LSST/New/shear_20/nside_512/0.1/202004151147\n",
      "/global/cscratch1/sd/cramirez/CoLoRe_LSST/New/shear_5/nside_512/0.1/202004151147\n",
      "/global/cscratch1/sd/cramirez/CoLoRe_LSST/New/shear_50/nside_512/0.1/202004151148\n",
      "/global/cscratch1/sd/cramirez/CoLoRe_LSST/New/shear_20/nside_512/0.01/202004160330\n",
      "/global/cscratch1/sd/cramirez/CoLoRe_LSST/New/shear_10/nside_512/0.01/202004160336\n",
      "/global/cscratch1/sd/cramirez/CoLoRe_LSST/New/shear_20/nside_512/0/20200416101345\n",
      "/global/cscratch1/sd/cramirez/CoLoRe_LSST/master/0.01/20200525021753\n",
      "/global/cscratch1/sd/cramirez/CoLoRe_LSST/New/shear_50/nside_512/0/20200525033915\n",
      "/global/cscratch1/sd/cramirez/CoLoRe_LSST/New/shear_50/nside_512/0/20200525034114\n",
      "/global/cscratch1/sd/cramirez/CoLoRe_LSST/master/0/20200525034154\n",
      "/global/cscratch1/sd/cramirez/CoLoRe_LSST/New/shear_50/nside_512/1/20200527044307\n",
      "\n",
      "Running\n",
      "\n",
      "Done\n",
      "/global/cscratch1/sd/cramirez/CoLoRe_LSST/New/shear_20/nside_512/0.001/0\n",
      "/global/cscratch1/sd/cramirez/CoLoRe_LSST/New/shear_10/nside_512/0.001/0\n",
      "/global/cscratch1/sd/cramirez/CoLoRe_LSST/New/shear_110/nside_512/0.001/0\n",
      "/global/cscratch1/sd/cramirez/CoLoRe_LSST/master/0.002/0\n",
      "/global/cscratch1/sd/cramirez/CoLoRe_LSST/master/0.01/0\n",
      "/global/cscratch1/sd/cramirez/CoLoRe_LSST/master/0.001/0\n",
      "/global/cscratch1/sd/cramirez/CoLoRe_LSST/master/0.1/0\n",
      "/global/cscratch1/sd/cramirez/CoLoRe_LSST/master/0.0001/0\n",
      "/global/cscratch1/sd/cramirez/CoLoRe_LSST/Old/shear_10/nside_512/0.001/0\n",
      "/global/cscratch1/sd/cramirez/CoLoRe_LSST/New/shear_50/nside_512/0.01/202004141616\n",
      "/global/cscratch1/sd/cramirez/CoLoRe_LSST/Old/shear_800/nside_512/0.0001/202004150812\n",
      "/global/cscratch1/sd/cramirez/CoLoRe_LSST/Old/shear_5/nside_512/0.001/202004150813\n",
      "/global/cscratch1/sd/cramirez/CoLoRe_LSST/Old/shear_5/nside_512/0.0001/202004150813\n",
      "/global/cscratch1/sd/cramirez/CoLoRe_LSST/Old/shear_5/nside_512/0.002/202004150814\n",
      "/global/cscratch1/sd/cramirez/CoLoRe_LSST/Old/shear_5/nside_512/0.01/202004150834\n",
      "/global/cscratch1/sd/cramirez/CoLoRe_LSST/Old/shear_5/nside_512/0.1/202004150835\n",
      "/global/cscratch1/sd/cramirez/CoLoRe_LSST/New/shear_20/nside_512/0.001/202004160315\n",
      "/global/cscratch1/sd/cramirez/CoLoRe_LSST/New/shear_20/nside_512/0.0001/202004160316\n",
      "/global/cscratch1/sd/cramirez/CoLoRe_LSST/New/shear_10/nside_512/0.0001/202004160338\n",
      "/global/cscratch1/sd/cramirez/CoLoRe_LSST/Old/shear_10/nside_512/0.001/202004160411\n",
      "/global/cscratch1/sd/cramirez/CoLoRe_LSST/Old/shear_20/nside_512/0.0001/202004160427\n",
      "/global/cscratch1/sd/cramirez/CoLoRe_LSST/master/0.0001/202004160428\n",
      "/global/cscratch1/sd/cramirez/CoLoRe_LSST/New/shear_20/nside_512/0.0001/202004160430\n",
      "/global/cscratch1/sd/cramirez/CoLoRe_LSST/New/shear_20/nside_512/0.0001/202004160717\n",
      "/global/cscratch1/sd/cramirez/CoLoRe_LSST/Old/shear_20/nside_512/0.0001/202004160717\n",
      "/global/cscratch1/sd/cramirez/CoLoRe_LSST/master/0.0001/202004160718\n",
      "/global/cscratch1/sd/cramirez/CoLoRe_LSST/Old/shear_50/nside_512/0.01/20200416074907\n",
      "/global/cscratch1/sd/cramirez/CoLoRe_LSST/master/0.01/20200416074931\n",
      "/global/cscratch1/sd/cramirez/CoLoRe_LSST/Old/shear_5/nside_512/0.0001/20200416080656\n",
      "/global/cscratch1/sd/cramirez/CoLoRe_LSST/Old/shear_5/nside_512/0.001/20200416080714\n",
      "/global/cscratch1/sd/cramirez/CoLoRe_LSST/Old/shear_5/nside_512/0.01/20200416081228\n",
      "/global/cscratch1/sd/cramirez/CoLoRe_LSST/master/0.01/20200416090110\n",
      "/global/cscratch1/sd/cramirez/CoLoRe_LSST/master/0.0001/20200416093643\n",
      "/global/cscratch1/sd/cramirez/CoLoRe_LSST/Old/shear_20/nside_512/0/20200416101416\n",
      "/global/cscratch1/sd/cramirez/CoLoRe_LSST/master/0/20200416101437\n",
      "/global/cscratch1/sd/cramirez/CoLoRe_LSST/master/0/20200416101449\n",
      "/global/cscratch1/sd/cramirez/CoLoRe_LSST/New/shear_20/nside_512/0.1/20200521010157\n",
      "/global/cscratch1/sd/cramirez/CoLoRe_LSST/New/shear_20/nside_512/0.01/20200522145442\n",
      "/global/cscratch1/sd/cramirez/CoLoRe_LSST/New/shear_5/nside_512/0.01/20200522152308\n",
      "/global/cscratch1/sd/cramirez/CoLoRe_LSST/New/shear_50/nside_512/0.01/20200524151420\n",
      "/global/cscratch1/sd/cramirez/CoLoRe_LSST/New/shear_50/nside_512/0.1/20200524151531\n",
      "/global/cscratch1/sd/cramirez/CoLoRe_LSST/New/shear_50/nside_1024/0.1/20200524151546\n",
      "/global/cscratch1/sd/cramirez/CoLoRe_LSST/New/shear_50/nside_1024/0.01/20200524151657\n",
      "/global/cscratch1/sd/cramirez/CoLoRe_LSST/New/shear_100/nside_512/0.01/20200524154935\n",
      "/global/cscratch1/sd/cramirez/CoLoRe_LSST/New/shear_100/nside_512/0.1/20200524155210\n",
      "/global/cscratch1/sd/cramirez/CoLoRe_LSST/Old/shear_100/nside_512/0.1/20200524160256\n",
      "/global/cscratch1/sd/cramirez/CoLoRe_LSST/Old/shear_100/nside_512/0.01/20200524164137\n",
      "/global/cscratch1/sd/cramirez/CoLoRe_LSST/Old/shear_50/nside_512/0/20200525034124\n",
      "/global/cscratch1/sd/cramirez/CoLoRe_LSST/New/shear_50/nside_512/0/20200525035601\n",
      "/global/cscratch1/sd/cramirez/CoLoRe_LSST/Old/shear_50/nside_512/0/20200525035754\n",
      "/global/cscratch1/sd/cramirez/CoLoRe_LSST/master/0.01/20200525072333\n",
      "/global/cscratch1/sd/cramirez/CoLoRe_LSST/master/0.1/20200526061202\n",
      "/global/cscratch1/sd/cramirez/CoLoRe_LSST/master/0.01/20200528012712\n",
      "/global/cscratch1/sd/cramirez/CoLoRe_LSST/master/0.1/20200528034653\n",
      "/global/cscratch1/sd/cramirez/CoLoRe_LSST/New/shear_50/nside_2048/0.1/20200528044545\n",
      "/global/cscratch1/sd/cramirez/CoLoRe_LSST/New/shear_50/nside_2048/0.01/20200529032916\n",
      "/global/cscratch1/sd/cramirez/CoLoRe_LSST/New/shear_30/nside_512/0.01/20200529043731\n",
      "/global/cscratch1/sd/cramirez/CoLoRe_LSST/New/shear_40/nside_512/0.01/20200529043742\n",
      "\n"
     ]
    }
   ],
   "source": [
    "for x in FilterList.filters():\n",
    "    print(x[0])\n",
    "    sims = FileManager.get_simulations(path,x[1])\n",
    "    \n",
    "    for sim in sims:\n",
    "        all_sims.append(Sim0404(sim))\n",
    "        print(sim)\n",
    "    print('')"
   ]
  },
  {
   "cell_type": "markdown",
   "metadata": {},
   "source": [
    "# Checking prepared simulations"
   ]
  },
  {
   "cell_type": "code",
   "execution_count": 7,
   "metadata": {},
   "outputs": [
    {
     "name": "stdout",
     "output_type": "stream",
     "text": [
      "Prepared\n",
      "\n",
      "| id | Status | Seed | Version | Template | Factor | Shear | Datetime |\n",
      "|:----:|:----:|:----:|:----:|:----:|:----:|:----:|:----:|\n",
      "| 0 | prepared | 1003 | New | master_with_shear | 0.01 | 30 | 20200529043537 |\n",
      "\n",
      "\n",
      "Crashed\n",
      "\n",
      "| id | Status | Seed | Version | Template | Factor | Shear | Datetime |\n",
      "|:----:|:----:|:----:|:----:|:----:|:----:|:----:|:----:|\n",
      "| 1 | crashed | 1003 | New | 02 | 0.01 | 50 | 0 |\n",
      "| 2 | crashed | 1003 | New | 01 | 0.01 | 110 | 0 |\n",
      "| 3 | crashed | 1003 | New | 03 | 0.1 | 50 | 202004141640 |\n",
      "| 4 | crashed | 1003 | New | 02 | 0.01 | 10 | 202004150134 |\n",
      "| 5 | crashed | 1003 | New | 02 | 0.01 | 10 | 202004150212 |\n",
      "| 6 | crashed | 1003 | New | 02 | 0.01 | 5 | 202004150238 |\n",
      "| 7 | crashed | 1003 | New | master_with_shear | 0.1 | 5 | 202004150853 |\n",
      "| 8 | crashed | 1003 | New | master_with_shear | 0.1 | 20 | 202004151040 |\n",
      "| 9 | crashed | 1003 | New | master_with_shear | 0.1 | 50 | 202004151041 |\n",
      "| 10 | crashed | 1003 | New | master_with_shear | 0.1 | 20 | 202004151147 |\n",
      "| 11 | crashed | 1003 | New | master_with_shear | 0.1 | 5 | 202004151147 |\n",
      "| 12 | crashed | 1003 | New | master_with_shear | 0.1 | 50 | 202004151148 |\n",
      "| 13 | crashed | 1003 | New | master_with_shear | 0.01 | 20 | 202004160330 |\n",
      "| 14 | crashed | 1003 | New | master_with_shear | 0.01 | 10 | 202004160336 |\n",
      "| 15 | crashed | 1003 | New | shear_test | 0.0 | 20 | 20200416101345 |\n",
      "| 16 | crashed | 1003 | master_bias3 | master_with_shear | 0.01 | None | 20200525021753 |\n",
      "| 17 | crashed | 1003 | New | shear_test | 0.0 | 50 | 20200525033915 |\n",
      "| 18 | crashed | 1003 | New | shear_test | 0.0 | 50 | 20200525034114 |\n",
      "| 19 | crashed | 1003 | master_bias3 | master_with_shear | 0.0 | None | 20200525034154 |\n",
      "| 20 | crashed | 1003 | New | master_with_shear | 1.0 | 50 | 20200527044307 |\n",
      "\n",
      "\n",
      "Running\n",
      "\n",
      "| id | Status | Seed | Version | Template | Factor | Shear | Datetime |\n",
      "|:----:|:----:|:----:|:----:|:----:|:----:|:----:|:----:|\n",
      "\n",
      "\n",
      "Done\n",
      "\n",
      "| id | Status | Seed | Version | Template | Factor | Shear | Datetime |\n",
      "|:----:|:----:|:----:|:----:|:----:|:----:|:----:|:----:|\n",
      "| 21 | done | 1003 | New | 01 | 0.001 | 20 | 0 |\n",
      "| 22 | done | 1003 | New | 01 | 0.001 | 10 | 0 |\n",
      "| 23 | done | 1003 | New | 01 | 0.001 | 110 | 0 |\n",
      "| 24 | done | 1003 | master_bias3 | master | 0.002 | None | 0 |\n",
      "| 25 | done | 1003 | master_bias3 | master | 0.01 | None | 0 |\n",
      "| 26 | done | 1003 | master_bias3 | master | 0.001 | None | 0 |\n",
      "| 27 | done | 1003 | master_bias3 | master | 0.1 | None | 0 |\n",
      "| 28 | done | 1003 | master_bias3 | master | 0.0001 | None | 0 |\n",
      "| 29 | done | 1003 | Old | 01 | 0.001 | 10 | 0 |\n",
      "| 30 | done | 1003 | New | 03 | 0.01 | 50 | 202004141616 |\n",
      "| 31 | done | 1003 | Old | master_with_shear | 0.0001 | 800 | 202004150812 |\n",
      "| 32 | done | 1003 | Old | master_with_shear | 0.001 | 5 | 202004150813 |\n",
      "| 33 | done | 1003 | Old | master_with_shear | 0.0001 | 5 | 202004150813 |\n",
      "| 34 | done | 1003 | Old | master_with_shear | 0.002 | 5 | 202004150814 |\n",
      "| 35 | done | 1003 | Old | master_with_shear | 0.01 | 5 | 202004150834 |\n",
      "| 36 | done | 1003 | Old | master_with_shear | 0.1 | 5 | 202004150835 |\n",
      "| 37 | done | 1003 | New | master_with_shear | 0.001 | 20 | 202004160315 |\n",
      "| 38 | done | 1003 | New | master_with_shear | 0.0001 | 20 | 202004160316 |\n",
      "| 39 | done | 1003 | New | master_with_shear | 0.0001 | 10 | 202004160338 |\n",
      "| 40 | done | 1003 | Old | 03 | 0.001 | 10 | 202004160411 |\n",
      "| 41 | done | 1003 | Old | 04 | 0.0001 | 20 | 202004160427 |\n",
      "| 42 | done | 1003 | master_bias3 | 04 | 0.0001 | None | 202004160428 |\n",
      "| 43 | done | 1003 | New | 04 | 0.0001 | 20 | 202004160430 |\n",
      "| 44 | done | 1003 | New | 03 | 0.0001 | 20 | 202004160717 |\n",
      "| 45 | done | 1003 | Old | 03 | 0.0001 | 20 | 202004160717 |\n",
      "| 46 | done | 1003 | master_bias3 | 03 | 0.0001 | None | 202004160718 |\n",
      "| 47 | done | 1003 | Old | 03 | 0.01 | 50 | 20200416074907 |\n",
      "| 48 | done | 1003 | master_bias3 | 03 | 0.01 | None | 20200416074931 |\n",
      "| 49 | done | 1003 | Old | master | 0.0001 | 5 | 20200416080656 |\n",
      "| 50 | done | 1003 | Old | master | 0.001 | 5 | 20200416080714 |\n",
      "| 51 | done | 1003 | Old | master | 0.01 | 5 | 20200416081228 |\n",
      "| 52 | done | 1003 | master_bias3 | master_with_shear | 0.01 | None | 20200416090110 |\n",
      "| 53 | done | 1003 | master_bias3 | master_with_shear | 0.0001 | None | 20200416093643 |\n",
      "| 54 | done | 1003 | Old | shear_test | 0.0 | 20 | 20200416101416 |\n",
      "| 55 | done | 1003 | master_bias3 | shear_test | 0.0 | None | 20200416101437 |\n",
      "| 56 | done | 1003 | master_bias3 | shear_test | 0.0 | None | 20200416101449 |\n",
      "| 57 | done | 1003 | New | master_with_shear | 0.1 | 20 | 20200521010157 |\n",
      "| 58 | done | 1003 | New | master_with_shear | 0.01 | 20 | 20200522145442 |\n",
      "| 59 | done | 1003 | New | master_with_shear | 0.01 | 5 | 20200522152308 |\n",
      "| 60 | done | 1003 | New | master_with_shear | 0.01 | 50 | 20200524151420 |\n",
      "| 61 | done | 1003 | New | master_with_shear | 0.1 | 50 | 20200524151531 |\n",
      "| 62 | done | 1003 | New | master_with_shear | 0.1 | 50 | 20200524151546 |\n",
      "| 63 | done | 1003 | New | master_with_shear | 0.01 | 50 | 20200524151657 |\n",
      "| 64 | done | 1003 | New | master_with_shear | 0.01 | 100 | 20200524154935 |\n",
      "| 65 | done | 1003 | New | master_with_shear | 0.1 | 100 | 20200524155210 |\n",
      "| 66 | done | 1003 | Old | master_with_shear | 0.1 | 100 | 20200524160256 |\n",
      "| 67 | done | 1003 | Old | master_with_shear | 0.01 | 100 | 20200524164137 |\n",
      "| 68 | done | 1003 | Old | shear_test | 0.0 | 50 | 20200525034124 |\n",
      "| 69 | done | 1003 | New | shear_test | 0.0 | 50 | 20200525035601 |\n",
      "| 70 | done | 1003 | Old | shear_test | 0.0 | 50 | 20200525035754 |\n",
      "| 71 | done | 1003 | master_bias3 | master_with_shear | 0.01 | None | 20200525072333 |\n",
      "| 72 | done | 1003 | master_bias3 | master_with_shear | 0.1 | None | 20200526061202 |\n",
      "| 73 | done | 1003 | master | master_with_shear | 0.01 | None | 20200528012712 |\n",
      "| 74 | done | 1003 | master | master_with_shear | 0.1 | None | 20200528034653 |\n",
      "| 75 | done | 1003 | New | master_with_shear | 0.1 | 50 | 20200528044545 |\n",
      "| 76 | done | 1003 | New | master_with_shear | 0.01 | 50 | 20200529032916 |\n",
      "| 77 | done | 1003 | New | master_with_shear | 0.01 | 30 | 20200529043731 |\n",
      "| 78 | done | 1003 | New | master_with_shear | 0.01 | 40 | 20200529043742 |\n",
      "\n",
      "\n"
     ]
    }
   ],
   "source": [
    "sims = {}\n",
    "id_ = 0\n",
    "for x in FilterList.filters():\n",
    "    print(x[0]+'\\n')\n",
    "    print('| id | Status | Seed | Version | Template | Factor | Shear | Datetime |')\n",
    "    print('|:----:|:----:|:----:|:----:|:----:|:----:|:----:|:----:|')\n",
    "    for sim in FileManager.get_simulations(path,x[1]):\n",
    "        simname = id_\n",
    "        id_+=1\n",
    "        sims[simname] = sims_classes['0404'](sim,simname)\n",
    "        x = sims[simname]\n",
    "        print('| {} | {} | {} | {} | {} | {} | {} | {} |'.format(x.__name__,x.status,x.seed,x.version,x.template,x.factor,x.shear,x.preparation_time))\n",
    "    print('\\n')\n",
    "    "
   ]
  },
  {
   "cell_type": "code",
   "execution_count": 8,
   "metadata": {},
   "outputs": [
    {
     "name": "stdout",
     "output_type": "stream",
     "text": [
      "| id | Status | Seed | Version | Template | Factor | Shear |\n",
      "|:----:|:----:|:----:|:----:|:----:|:----:|:----:|\n",
      "| 0 | prepared | 1003 | New | master_with_shear | 0.01 | 30 |\n"
     ]
    }
   ],
   "source": [
    "param_filter = {\n",
    "    \"status\" : \"prepared\"\n",
    "}\n",
    "\n",
    "sims = {}\n",
    "\n",
    "print('| id | Status | Seed | Version | Template | Factor | Shear |')\n",
    "print('|:----:|:----:|:----:|:----:|:----:|:----:|:----:|')\n",
    "# Find simulations\n",
    "for i,sim in enumerate(FileManager.get_simulations(path,param_filter)):\n",
    "    simname = i\n",
    "    sims[simname] = sims_classes['0404'](sim,simname)\n",
    "    x = sims[simname]\n",
    "    print('| {} | {} | {} | {} | {} | {} | {} |'.format(x.__name__,x.status,x.seed,x.version,x.template,x.factor,x.shear))"
   ]
  },
  {
   "cell_type": "markdown",
   "metadata": {},
   "source": [
    "# Checking crashed simulations"
   ]
  },
  {
   "cell_type": "code",
   "execution_count": 9,
   "metadata": {},
   "outputs": [
    {
     "name": "stdout",
     "output_type": "stream",
     "text": [
      "| id | Status | Seed | Version | Template | Factor | Shear |\n",
      "|:----:|:----:|:----:|:----:|:----:|:----:|:----:|:----:|\n",
      "| 0 | crashed | 1003 | New | 02 | 0.01 | 50 |\n",
      "| 1 | crashed | 1003 | New | 01 | 0.01 | 110 |\n",
      "| 2 | crashed | 1003 | New | 03 | 0.1 | 50 |\n",
      "| 3 | crashed | 1003 | New | 02 | 0.01 | 10 |\n",
      "| 4 | crashed | 1003 | New | 02 | 0.01 | 10 |\n",
      "| 5 | crashed | 1003 | New | 02 | 0.01 | 5 |\n",
      "| 6 | crashed | 1003 | New | master_with_shear | 0.1 | 5 |\n",
      "| 7 | crashed | 1003 | New | master_with_shear | 0.1 | 20 |\n",
      "| 8 | crashed | 1003 | New | master_with_shear | 0.1 | 50 |\n",
      "| 9 | crashed | 1003 | New | master_with_shear | 0.1 | 20 |\n",
      "| 10 | crashed | 1003 | New | master_with_shear | 0.1 | 5 |\n",
      "| 11 | crashed | 1003 | New | master_with_shear | 0.1 | 50 |\n",
      "| 12 | crashed | 1003 | New | master_with_shear | 0.01 | 20 |\n",
      "| 13 | crashed | 1003 | New | master_with_shear | 0.01 | 10 |\n",
      "| 14 | crashed | 1003 | master_bias3 | master_with_shear | 0.01 | None |\n",
      "| 15 | crashed | 1003 | master_bias3 | master_with_shear | 0.0 | None |\n",
      "| 16 | crashed | 1003 | New | master_with_shear | 1.0 | 50 |\n"
     ]
    }
   ],
   "source": [
    "param_filter = {\n",
    "    \"status\" : \"crashed\",\n",
    "    \"template\" : [\"master_with_shear\",'01','02','03']\n",
    "}\n",
    "\n",
    "sims = {}\n",
    "\n",
    "print('| id | Status | Seed | Version | Template | Factor | Shear |')\n",
    "print('|:----:|:----:|:----:|:----:|:----:|:----:|:----:|:----:|')\n",
    "# Find simulations\n",
    "for i,sim in enumerate(FileManager.get_simulations(path,param_filter)):\n",
    "    simname = i\n",
    "    sims[simname] = sims_classes['0404'](sim,simname)\n",
    "    x = sims[simname]\n",
    "    print('| {} | {} | {} | {} | {} | {} | {} |'.format(x.__name__,x.status,x.seed,x.version,x.template,x.factor,x.shear))"
   ]
  },
  {
   "cell_type": "code",
   "execution_count": 10,
   "metadata": {},
   "outputs": [
    {
     "data": {
      "text/plain": [
       "'/global/cscratch1/sd/cramirez/CoLoRe_LSST/New/shear_10/nside_512/0.01/202004160336/script/terminal_CoLoRe_LSST_29737111.log'"
      ]
     },
     "execution_count": 10,
     "metadata": {},
     "output_type": "execute_result"
    }
   ],
   "source": [
    "sims[13].terminal_file"
   ]
  },
  {
   "cell_type": "markdown",
   "metadata": {},
   "source": [
    "# Checking running simulations"
   ]
  },
  {
   "cell_type": "code",
   "execution_count": 11,
   "metadata": {},
   "outputs": [
    {
     "name": "stdout",
     "output_type": "stream",
     "text": [
      "| id | Status | Nodes | Seed | Version | Template | Factor | Shear |\n",
      "|:----:|:----:|:----:|:----:|:----:|:----:|:----:|:----:|\n"
     ]
    }
   ],
   "source": [
    "param_filter = {\n",
    "    \"status\" : \"running\"\n",
    "}\n",
    "\n",
    "sims = {}\n",
    "\n",
    "print('| id | Status | Nodes | Seed | Version | Template | Factor | Shear |')\n",
    "print('|:----:|:----:|:----:|:----:|:----:|:----:|:----:|:----:|')\n",
    "# Find simulations\n",
    "for i,sim in enumerate(FileManager.get_simulations(path,param_filter)):\n",
    "    simname = i\n",
    "    sims[simname] = sims_classes['0404'](sim,simname)\n",
    "    x = sims[simname]\n",
    "    x.set_memory_reader()\n",
    "    print('| {} | {} | {} | {} | {} | {} | {} | {} |'.format(x.__name__,x.status,x.nodes,x.seed,x.version,x.template,x.factor,x.shear))"
   ]
  },
  {
   "cell_type": "markdown",
   "metadata": {},
   "source": [
    "# Checking master simulations"
   ]
  },
  {
   "cell_type": "markdown",
   "metadata": {},
   "source": [
    "Working only with done simulations:"
   ]
  },
  {
   "cell_type": "code",
   "execution_count": 12,
   "metadata": {},
   "outputs": [
    {
     "name": "stdout",
     "output_type": "stream",
     "text": [
      "| id | Nodes | Seed | Version | Template | Factor | Memory (GB) | Disk  | Time (s)|\n",
      " |:---:|:---:|:---:|:---:|:---:|:---:|:---:|:---:|:---:|\n",
      "| 0 | 10 | 1003 | master | master_with_shear | 0.01 | 773.214 | 7.6G | 803.7041999999999 |\n",
      "| 1 | 10 | 1003 | master | master_with_shear | 0.1 | 796.543 | 23G | 1634.5816 |\n"
     ]
    }
   ],
   "source": [
    "try:\n",
    "    param_filter = {\n",
    "        \"version\" : [\"master\"],\n",
    "        \"status\" : \"done\",\n",
    "        \"template\" : [\"01\",\"02\",\"master_with_shear\",'master']\n",
    "    }\n",
    "    sims = {}\n",
    "\n",
    "    # Delete empty directories\n",
    "    FileManager.remove_empty_dirs(path)\n",
    "\n",
    "    # Find simulations\n",
    "    for i,sim in enumerate(FileManager.get_simulations(path,param_filter)):\n",
    "        simname = i\n",
    "        sims[simname] = sims_classes['0404'](sim,simname)\n",
    "\n",
    "    # Getting informations    \n",
    "    for x in sims.keys():\n",
    "        sims[x].set_time_reader()\n",
    "        sims[x].set_memory_reader()\n",
    "        sims[x].set_size()\n",
    "        \n",
    "    print('| id | Nodes | Seed | Version | Template | Factor | Memory (GB) | Disk  | Time (s)|')\n",
    "    print(' |:---:|:---:|:---:|:---:|:---:|:---:|:---:|:---:|:---:|')\n",
    "    for sim in sorted(sims.items(), key = lambda x: x[1].factor):\n",
    "        x = sim[1]\n",
    "        print('| {} | {} | {} | {} | {} | {} | {} | {} | {} |'.format(x.__name__,x.nodes,x.seed,x.version,x.template,x.factor,x.memory_reader.tasks['Total']['Memory']/1000, x.size,x.time_reader.times[\"Total\"]/1000))\n",
    "#         print('id: {}\\tNodes: {}\\tSeed: {}\\tVersion: {}\\t  Factor: {}   \\tMemory: {} GB\\tSize: {}\\tTime: {} s'.format(x.__name__,x.nodes,x.seed,x.version,x.factor,x.memory_reader.tasks['Total']['Memory']/1000, x.size,x.times[\"Total\"]/1000))\n",
    "except :\n",
    "    print(sims[x].location)\n",
    "    raise"
   ]
  },
  {
   "cell_type": "markdown",
   "metadata": {},
   "source": [
    "# Checking Old simulations"
   ]
  },
  {
   "cell_type": "code",
   "execution_count": 4,
   "metadata": {},
   "outputs": [
    {
     "name": "stdout",
     "output_type": "stream",
     "text": [
      "| id | Status | Nodes | Seed | Version | Template | Factor | Shear | Memory (GB) | Disk  | Time (s)|\n",
      " |:---:|:----:|:---:|:---:|:---:|:---:|:---:|:---:|:---:|:---:|:---:|\n",
      "| 6 | done | 10 | 1003 | Old | master | 0.0001 | 5 | 770.653 | 210M | 672.7281 |\n",
      "| 0 | done | 10 | 1003 | Old | master_with_shear | 0.0001 | 800 | 770.653 | 210M | 686.1714 |\n",
      "| 2 | done | 10 | 1003 | Old | master_with_shear | 0.0001 | 5 | 770.653 | 210M | 679.4051 |\n",
      "| 7 | done | 10 | 1003 | Old | master | 0.001 | 5 | 770.884 | 359M | 671.245 |\n",
      "| 1 | done | 10 | 1003 | Old | master_with_shear | 0.001 | 5 | 770.884 | 359M | 682.564 |\n",
      "| 3 | done | 10 | 1003 | Old | master_with_shear | 0.002 | 5 | 771.144 | 525M | 691.2524 |\n",
      "| 8 | done | 10 | 1003 | Old | master | 0.01 | 5 | 773.214 | 1.9G | 804.6732 |\n",
      "| 4 | done | 10 | 1003 | Old | master_with_shear | 0.01 | 5 | 773.214 | 7.1G | 789.9322 |\n",
      "| 10 | done | 10 | 1003 | Old | master_with_shear | 0.01 | 100 | 773.214 | 7.5G | 784.1723 |\n",
      "| 5 | done | 10 | 1003 | Old | master_with_shear | 0.1 | 5 | 796.543 | 22G | 1588.4456 |\n",
      "| 9 | done | 10 | 1003 | Old | master_with_shear | 0.1 | 100 | 796.543 | 23G | 1586.7647 |\n"
     ]
    }
   ],
   "source": [
    "print('| id | Status | Nodes | Seed | Version | Template | Factor | Shear | Memory (GB) | Disk  | Time (s)|')\n",
    "print(' |:---:|:----:|:---:|:---:|:---:|:---:|:---:|:---:|:---:|:---:|:---:|')\n",
    "try:\n",
    "    param_filter_done = {\n",
    "        \"version\" : [\"Old\"],\n",
    "        \"status\" : [\"done\",\"crashed\"],\n",
    "        \"template\" : [\"master_with_shear\",\"master\"]\n",
    "    }\n",
    "\n",
    "    sims = {}\n",
    "\n",
    "    # Delete empty directories\n",
    "    FileManager.remove_empty_dirs(path)\n",
    "\n",
    "    # Find simulations\n",
    "    for i,sim in enumerate(FileManager.get_simulations(path,param_filter_done)):\n",
    "        simname = i\n",
    "        sims[simname] = sims_classes['0404'](sim,simname)\n",
    "    \n",
    "    # Getting informations    \n",
    "    for x in sims.keys():\n",
    "        if sims[x].status == 'done': \n",
    "            sims[x].set_time_reader()\n",
    "            \n",
    "        sims[x].set_memory_reader()\n",
    "        sims[x].set_size()\n",
    "        \n",
    "    for sim in sorted(sims.items(), key = lambda x: (x[1].factor,x[1].template)):\n",
    "        x = sim[1]\n",
    "        total_time = round(x.time_reader.times[\"Total\"]/1000 if x.status == 'done' else' ',4)\n",
    "        print('| {} | {} | {} | {} | {} | {} | {} | {} | {} | {} | {} |'.format(x.__name__,x.status,x.nodes,x.seed,x.version,x.template,x.factor,x.shear,x.memory_reader.tasks['Total']['Memory']/1000, x.size,total_time))\n",
    "#         print('id: {}\\tNodes: {}\\tSeed: {}\\tVersion: {}\\t  Factor: {}   \\tMemory: {} GB\\tSize: {}\\tTime: {} s'.format(x.__name__,x.nodes,x.seed,x.version,x.factor,x.memory_reader.tasks['Total']['Memory']/1000, x.size,x.times[\"Total\"]/1000))\n",
    "   \n",
    "except :\n",
    "    raise"
   ]
  },
  {
   "cell_type": "code",
   "execution_count": 7,
   "metadata": {},
   "outputs": [
    {
     "name": "stdout",
     "output_type": "stream",
     "text": [
      "| id | Status | Nodes | Seed | Version | Template | Factor | Shear | Memory (GB) | Disk  | Time (s)|\n",
      " |:---:|:----:|:---:|:---:|:---:|:---:|:---:|:---:|:---:|:---:|:---:|\n",
      "| 0 | crashed | 15 | 1003 | New | master_with_shear | 0.1 | 5 | 797.659 | 436K |   |\n",
      "| 1 | crashed | 15 | 1003 | New | master_with_shear | 0.1 | 20 | 798.178 | 436K |   |\n",
      "| 2 | crashed | 15 | 1003 | New | master_with_shear | 0.1 | 50 | 799.24 | 436K |   |\n",
      "| 3 | crashed | 10 | 1003 | New | master_with_shear | 0.1 | 20 | 797.242 | 420K |   |\n",
      "| 4 | crashed | 10 | 1003 | New | master_with_shear | 0.1 | 5 | 796.716 | 420K |   |\n",
      "| 5 | crashed | 10 | 1003 | New | master_with_shear | 0.1 | 50 | 798.301 | 420K |   |\n",
      "| 6 | done | 10 | 1003 | New | master_with_shear | 0.001 | 20 | 771.589 | 359M | 679.161 |\n",
      "| 7 | done | 10 | 1003 | New | master_with_shear | 0.0001 | 20 | 771.352 | 210M | 684.8545 |\n",
      "| 8 | crashed | 10 | 1003 | New | master_with_shear | 0.01 | 20 | 773.922 | 392K |   |\n",
      "| 9 | crashed | 10 | 1003 | New | master_with_shear | 0.01 | 10 | 773.568 | 392K |   |\n",
      "| 10 | done | 10 | 1003 | New | master_with_shear | 0.0001 | 10 | 771.005 | 210M | 698.1071999999999 |\n",
      "| 11 | done | 10 | 1003 | New | master_with_shear | 0.1 | 20 | 797.242 | 22G | 694.667 |\n",
      "| 12 | done | 10 | 1003 | New | master_with_shear | 0.01 | 20 | 773.922 | 7.1G | 677.6237 |\n",
      "| 13 | done | 10 | 1003 | New | master_with_shear | 0.01 | 5 | 773.395 | 7.1G | 685.0769 |\n",
      "| 14 | done | 10 | 1003 | New | master_with_shear | 0.01 | 50 | 774.972 | 7.5G | 705.7613 |\n",
      "| 15 | done | 10 | 1003 | New | master_with_shear | 0.1 | 50 | 798.301 | 23G | 714.4561 |\n",
      "| 16 | done | 10 | 1003 | New | master_with_shear | 0.1 | 50 | 803.568 | 23G | 758.3614 |\n",
      "| 17 | done | 10 | 1003 | New | master_with_shear | 0.01 | 50 | 780.248 | 7.5G | 721.7154 |\n",
      "| 18 | done | 10 | 1003 | New | master_with_shear | 0.01 | 100 | 776.732 | 7.5G | 696.3901999999999 |\n",
      "| 19 | done | 10 | 1003 | New | master_with_shear | 0.1 | 100 | 800.052 | 23G | 720.38 |\n",
      "| 20 | crashed | 10 | 1003 | New | master_with_shear | 1 | 50 | 1031.521 | 388K |   |\n"
     ]
    }
   ],
   "source": [
    "print('| id | Status | Nodes | Seed | Version | Template | Factor | Shear | Memory (GB) | Disk  | Time (s)|')\n",
    "print(' |:---:|:----:|:---:|:---:|:---:|:---:|:---:|:---:|:---:|:---:|:---:|')\n",
    "try:\n",
    "    param_filter_done = {\n",
    "        \"version\" : [\"New\"],\n",
    "        \"status\" : [\"done\",\"crashed\"],\n",
    "        \"template\" : ['master_with_shear']\n",
    "    }\n",
    "\n",
    "    sims = {}\n",
    " \n",
    "    # Delete empty directories\n",
    "    FileManager.remove_empty_dirs(path)\n",
    "\n",
    "    # Find simulations\n",
    "    for i,sim in enumerate(FileManager.get_simulations(path,param_filter_done)):\n",
    "        simname = i\n",
    "        sims[simname] = sims_classes['0404'](sim,simname)\n",
    "    \n",
    "    # Getting informations    \n",
    "    for x in sims.keys():\n",
    "        if sims[x].status == 'done': \n",
    "            sims[x].set_time_reader()\n",
    "            \n",
    "        sims[x].set_memory_reader()\n",
    "        sims[x].set_size()\n",
    "        \n",
    "    for sim in sims.items():\n",
    "        x = sim[1]\n",
    "        total_time = x.time_reader.times[\"Total\"]/1000 if x.status == 'done' else' '\n",
    "        print('| {} | {} | {} | {} | {} | {} | {} | {} | {} | {} | {} |'.format(x.__name__,x.status,x.nodes,x.seed,x.version,x.template,x.factor,x.shear,x.memory_reader.tasks['Total']['Memory']/1000, x.size,total_time))\n",
    "#         print('id: {}\\tNodes: {}\\tSeed: {}\\tVersion: {}\\t  Factor: {}   \\tMemory: {} GB\\tSize: {}\\tTime: {} s'.format(x.__name__,x.nodes,x.seed,x.version,x.factor,x.memory_reader.tasks['Total']['Memory']/1000, x.size,x.times[\"Total\"]/1000))\n",
    "   \n",
    "except :\n",
    "    print(sims[x].location)\n",
    "    print(sims[x].__name__)\n",
    "    raise"
   ]
  },
  {
   "cell_type": "code",
   "execution_count": 25,
   "metadata": {},
   "outputs": [
    {
     "name": "stdout",
     "output_type": "stream",
     "text": [
      "| id | Status | Nodes | Seed | Version | Template | Factor | Shear | Memory (GB) | Disk  | Time (s)| Preparation Date\n",
      " |:---:|:----:|:---:|:---:|:---:|:---:|:---:|:---:|:---:|:---:|:---:|:----:|\n",
      "| 2 | done | 10 | 1003 | New | master_with_shear | 0.0001 | 20 | 771.352 | 210M | 684.8545 | 202004160316 |\n",
      "| 3 | done | 10 | 1003 | New | master_with_shear | 0.0001 | 10 | 771.005 | 210M | 698.1072 | 202004160338 |\n",
      "| 6 | done | 10 | 1003 | master | master_with_shear | 0.0001 | None | 770.653 | 239M | 605.3347 | 20200416093643 |\n",
      "| 7 | done | 10 | 1003 | Old | master_with_shear | 0.0001 | 800 | 770.653 | 210M | 686.1714 | 202004150812 |\n",
      "| 10 | done | 10 | 1003 | Old | master_with_shear | 0.0001 | 5 | 770.653 | 210M | 679.4051 | 202004150813 |\n",
      "| 1 | done | 10 | 1003 | New | master_with_shear | 0.1 | 20 | 797.242 | 17G | 694.667 | 20200521010157 |\n",
      "| 9 | done | 10 | 1003 | Old | master_with_shear | 0.1 | 5 | 796.543 | 17G | 1588.4456 | 202004150835 |\n"
     ]
    }
   ],
   "source": [
    "print('| id | Status | Nodes | Seed | Version | Template | Factor | Shear | Memory (GB) | Disk  | Time (s)| Preparation Date')\n",
    "print(' |:---:|:----:|:---:|:---:|:---:|:---:|:---:|:---:|:---:|:---:|:---:|:----:|')\n",
    "try:\n",
    "    param_filter_done = {\n",
    "        \"status\" : [\"done\"],\n",
    "        \"template\" : ['master_with_shear'],\n",
    "        \"factor\" : [0.0001,0.01,0.1]\n",
    "    }\n",
    "\n",
    "    sims = {}\n",
    " \n",
    "    # Delete empty directories\n",
    "    FileManager.remove_empty_dirs(path)\n",
    "\n",
    "    # Find simulations\n",
    "    for i,sim in enumerate(FileManager.get_simulations(path,param_filter_done)):\n",
    "        simname = i\n",
    "        sims[simname] = sims_classes['0404'](sim,simname)\n",
    "    \n",
    "    # Getting informations    \n",
    "    for x in sims.keys():\n",
    "        if sims[x].status == 'done': \n",
    "            sims[x].set_time_reader()\n",
    "            \n",
    "        sims[x].set_memory_reader()\n",
    "        sims[x].set_size()\n",
    "        sims[x].set_shear_reader()\n",
    "        \n",
    "    for sim in sorted(sims.items(), key = lambda x: ('0' if x[1].template=='master_with_shear' else x[1].template,x[1].factor)):\n",
    "        x = sim[1]\n",
    "        if (x.factor == '0.01'):\n",
    "            if (x.template == 'master_with_shear'):\n",
    "                continue\n",
    "        total_time = round(x.time_reader.times[\"Total\"]/1000 if x.status == 'done' else 0,4)\n",
    "        print('| {} | {} | {} | {} | {} | {} | {} | {} | {} | {} | {} | {} |'.format(x.__name__,x.status,x.nodes,x.seed,x.version,x.template,x.factor,x.shear,x.memory_reader.tasks['Total']['Memory']/1000, x.size,total_time, x.preparation_time))\n",
    "#         print('id: {}\\tNodes: {}\\tSeed: {}\\tVersion: {}\\t  Factor: {}   \\tMemory: {} GB\\tSize: {}\\tTime: {} s'.format(x.__name__,x.nodes,x.seed,x.version,x.factor,x.memory_reader.tasks['Total']['Memory']/1000, x.size,x.times[\"Total\"]/1000))\n",
    "   \n",
    "except :\n",
    "    print(sims[x].location)\n",
    "    print(sims[x].__name__)\n",
    "    raise"
   ]
  },
  {
   "cell_type": "code",
   "execution_count": 8,
   "metadata": {},
   "outputs": [
    {
     "data": {
      "text/plain": [
       "'/global/cscratch1/sd/cramirez/CoLoRe_LSST/New/shear_20/nside_512/0.1/20200521010157'"
      ]
     },
     "execution_count": 8,
     "metadata": {},
     "output_type": "execute_result"
    }
   ],
   "source": [
    "sims[0].location"
   ]
  },
  {
   "cell_type": "code",
   "execution_count": null,
   "metadata": {},
   "outputs": [],
   "source": []
  }
 ],
 "metadata": {
  "kernelspec": {
   "display_name": "CoLoReEnv",
   "language": "python",
   "name": "colore_env"
  },
  "language_info": {
   "codemirror_mode": {
    "name": "ipython",
    "version": 3
   },
   "file_extension": ".py",
   "mimetype": "text/x-python",
   "name": "python",
   "nbconvert_exporter": "python",
   "pygments_lexer": "ipython3",
   "version": "3.8.0"
  }
 },
 "nbformat": 4,
 "nbformat_minor": 4
}
