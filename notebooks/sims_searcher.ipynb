{
 "cells": [
  {
   "cell_type": "code",
   "execution_count": 1,
   "metadata": {},
   "outputs": [],
   "source": [
    "import CoLoRe_analysis\n",
    "from CoLoRe_analysis import file_manager"
   ]
  },
  {
   "cell_type": "code",
   "execution_count": 2,
   "metadata": {},
   "outputs": [],
   "source": [
    "path_to_search = \"/global/cscratch1/sd/cramirez/CoLoRe_CCL/analysis\""
   ]
  },
  {
   "cell_type": "code",
   "execution_count": 3,
   "metadata": {},
   "outputs": [],
   "source": [
    "filt = {\n",
    "    'param_cfg': {\n",
    "        'field_par': {\n",
    "            'n_grid': [4096],\n",
    "             'r_smooth': [5]\n",
    "        }\n",
    "    }\n",
    "}"
   ]
  },
  {
   "cell_type": "code",
   "execution_count": 4,
   "metadata": {},
   "outputs": [],
   "source": [
    "filt = dict()"
   ]
  },
  {
   "cell_type": "code",
   "execution_count": 5,
   "metadata": {},
   "outputs": [],
   "source": [
    "sims, table = file_manager.FileManager.print_sims_table(path_to_search, filt)"
   ]
  },
  {
   "cell_type": "code",
   "execution_count": 6,
   "metadata": {},
   "outputs": [
    {
     "name": "stdout",
     "output_type": "stream",
     "text": [
      "+----+--------+---------+-------+------+---------+-------------------+--------+-------+-------+-------------+------+----------+-----------------+---------+\n",
      "| id | commit | status  | nodes | seed | version |     template      | factor | shear | nside | memory (GB) | Disk |  Time(s) |      Date       | Made by |\n",
      "+----+--------+---------+-------+------+---------+-------------------+--------+-------+-------+-------------+------+----------+-----------------+---------+\n",
      "| 0  |        |  done   |       | 1003 |   New   |       LSST        |  1.0   |  50   | 1024  |             | 158G |          |        0        | javier  |\n",
      "| 1  |        |  done   |       | 1003 |   New   |       LSST        |  1.0   |  50   | 1024  |             | 157G |          |        0        | javier  |\n",
      "| 2  |        |  done   |       | 1003 |   Old   |       LSST        |  1.0   |  50   | 1024  |             | 154G |          |        0        | javier  |\n",
      "| 3  |        |  done   |       | 1003 |   New   |       LSST        |  1.0   |  50   | 1024  |             | 312G |          |        0        | javier  |\n",
      "| 4  |  0707  |  done   |   1   | 1001 |   New   |      cl_test      |  1.0   |  11   |  128  |    1.587    | 59M  |  4.6667  | 20200708_020519 |  cesar  |\n",
      "| 5  |  0707  |  done   |   1   | 1001 |   Old   |     tiny_test     |  1.0   |  11   |  128  |    1.569    | 101M |   4.77   | 20200710_012815 |  cesar  |\n",
      "| 6  |  0707  |  done   |   1   | 1001 |   Old   | tiny_test_bias_2  |  1.0   |  11   |  128  |    1.569    | 43M  |  4.4344  | 20200719_130041 |  cesar  |\n",
      "| 7  |  0707  | crashed |  10   | 1001 |   New   |     big_test      |  0.01  |  50   | 2048  |             | 13M  |          | 20200719_231601 |  cesar  |\n",
      "| 8  |  0707  | crashed |  10   | 1001 |   New   |     big_test      |  0.01  |  50   | 2048  |             | 13M  |          | 20200719_233154 |  cesar  |\n",
      "| 9  |  0707  |  done   |  32   | 1001 |   New   |     big_test      |  0.1   |  50   | 2048  |   997.024   | 146G | 658.3494 | 20200720_175338 |  cesar  |\n",
      "| 10 |  0707  |  done   |  32   | 1001 |   New   |     big_test      |  0.1   |  50   | 2048  |   997.024   | 146G | 490.8563 | 20200721_115126 |  cesar  |\n",
      "| 11 |  0707  |  done   |  32   | 1001 |   New   |    big_test_25    |   1    |  50   | 1024  |  1019.936   | 158G | 351.4036 | 20200729_130230 |  cesar  |\n",
      "| 12 |  0707  |  done   |  32   | 1001 |   Old   | tiny_test_bias_05 |  1.0   |  50   | 1024  |    1.664    | 43M  |  1.5178  | 20200731_125646 |  cesar  |\n",
      "| 13 |  0707  |  done   |  64   | 1001 |   New   |    big_test_25    |  0.1   |  50   | 1024  |   1025.92   | 158G | 357.5328 | 20200811_121611 |  cesar  |\n",
      "| 14 |  0707  |  done   |  64   | 1001 |   New   |    big_test_25    |  1.0   |  50   | 2048  |  1034.368   | 166G | 414.1832 | 20200811_123017 |  cesar  |\n",
      "| 15 |  0707  |  done   |  64   | 1001 |   Old   |    big_test_25    |  0.1   |  50   | 2048  |   804.544   | 16G  | 780.8573 | 20200909_130230 |  cesar  |\n",
      "| 16 |  0707  |  done   |  64   | 1001 |   New   |    big_test_25    |  0.1   |  50   | 2048  |   816.96    | 27G  | 777.2908 | 20200909_165900 |  cesar  |\n",
      "| 17 |        |  done   |       | 1003 |   Old   |       LSST        |   1    |  50   | 1024  |             | 154G |          | 20200922_015141 | javier  |\n",
      "| 18 |        |  done   |       | 1003 |   New   |       LSST        |   1    |  50   | 1024  |             | 158G |          | 20200922_055937 | javier  |\n",
      "+----+--------+---------+-------+------+---------+-------------------+--------+-------+-------+-------------+------+----------+-----------------+---------+\n"
     ]
    }
   ],
   "source": [
    "print(table)"
   ]
  },
  {
   "cell_type": "code",
   "execution_count": 7,
   "metadata": {},
   "outputs": [
    {
     "data": {
      "text/plain": [
       "'/global/cscratch1/sd/cramirez/CoLoRe_CCL/sims/cesar/Old/1/20200719_130041'"
      ]
     },
     "execution_count": 7,
     "metadata": {},
     "output_type": "execute_result"
    }
   ],
   "source": [
    "sims[6].location"
   ]
  },
  {
   "cell_type": "code",
   "execution_count": 8,
   "metadata": {},
   "outputs": [
    {
     "name": "stdout",
     "output_type": "stream",
     "text": [
      "0 \t /global/cscratch1/sd/cramirez/CoLoRe_CCL/analysis/slow_n_4096\n",
      "1 \t /global/cscratch1/sd/cramirez/CoLoRe_CCL/analysis/fast_n_4096_rs5\n"
     ]
    }
   ],
   "source": [
    "for i, sim in enumerate(sims.values()):\n",
    "    print(i,'\\t',sim.analysis_location)"
   ]
  },
  {
   "cell_type": "code",
   "execution_count": null,
   "metadata": {},
   "outputs": [],
   "source": []
  }
 ],
 "metadata": {
  "kernelspec": {
   "display_name": "CoLoReEnv",
   "language": "python",
   "name": "colore_env"
  },
  "language_info": {
   "codemirror_mode": {
    "name": "ipython",
    "version": 3
   },
   "file_extension": ".py",
   "mimetype": "text/x-python",
   "name": "python",
   "nbconvert_exporter": "python",
   "pygments_lexer": "ipython3",
   "version": "3.8.0"
  }
 },
 "nbformat": 4,
 "nbformat_minor": 4
}
