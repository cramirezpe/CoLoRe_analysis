{
 "cells": [
  {
   "cell_type": "code",
   "execution_count": 1,
   "metadata": {},
   "outputs": [],
   "source": [
    "import sys, os\n",
    "import imp\n",
    "import matplotlib.gridspec as gridspec\n",
    "import matplotlib.pyplot as plt\n",
    "import numpy as np\n",
    "sys.path.insert(0,'./lib')\n",
    "import time_analysis_LSST as timean\n",
    "import timeit\n",
    "from time_analysis_LSST import (FileManager, MemoryReader, FilterList, Simulation, Sim0404)"
   ]
  },
  {
   "cell_type": "code",
   "execution_count": 2,
   "metadata": {},
   "outputs": [],
   "source": [
    "path = \"/global/cscratch1/sd/cramirez/CoLoRe_LSST/\""
   ]
  },
  {
   "cell_type": "code",
   "execution_count": 3,
   "metadata": {},
   "outputs": [
    {
     "name": "stdout",
     "output_type": "stream",
     "text": [
      "Id: 0\tLocation: /global/cscratch1/sd/cramirez/CoLoRe_LSST/New/shear_20/nside_512/0.1/20200521010157\n",
      "Id: 1\tLocation: /global/cscratch1/sd/cramirez/CoLoRe_LSST/Old/shear_5/nside_512/0.1/202004150835\n"
     ]
    }
   ],
   "source": [
    "filt = {\n",
    "    \"status\" : [\"done\"],\n",
    "    \"template\": [\"master_with_shear\"],\n",
    "    \"factor\" : [0.1]\n",
    "}\n",
    "\n",
    "sims= {}\n",
    "for i,sim in enumerate(FileManager.get_simulations(path,filt)):\n",
    "    simname = i\n",
    "    sims[simname] = Sim0404(sim,simname)\n",
    "    print(f'Id: { simname }\\tLocation: { sims[simname].location }')"
   ]
  },
  {
   "cell_type": "code",
   "execution_count": 4,
   "metadata": {},
   "outputs": [],
   "source": [
    "x = sims[0]\n",
    "y = sims[1]"
   ]
  },
  {
   "cell_type": "code",
   "execution_count": 5,
   "metadata": {},
   "outputs": [],
   "source": [
    "x.set_shear_reader()\n",
    "y.set_shear_reader()\n",
    "srx = x.shear_reader\n",
    "sry = y.shear_reader"
   ]
  },
  {
   "cell_type": "code",
   "execution_count": 6,
   "metadata": {},
   "outputs": [],
   "source": [
    "xshear = srx.get_values('mp_e1', source=2)\n",
    "yshear = sry.get_values('mp_e1', source=2)"
   ]
  },
  {
   "cell_type": "code",
   "execution_count": 7,
   "metadata": {},
   "outputs": [
    {
     "data": {
      "text/plain": [
       "array([-0.00339203,  0.00660518, -0.00108561, ...,  0.00398858,\n",
       "       -0.00059953,  0.00803233])"
      ]
     },
     "execution_count": 7,
     "metadata": {},
     "output_type": "execute_result"
    }
   ],
   "source": [
    "xshear"
   ]
  },
  {
   "cell_type": "code",
   "execution_count": 8,
   "metadata": {},
   "outputs": [
    {
     "data": {
      "text/plain": [
       "array([-0.00287109,  0.00645723, -0.00106647, ...,  0.00387812,\n",
       "       -0.00084866,  0.00757581])"
      ]
     },
     "execution_count": 8,
     "metadata": {},
     "output_type": "execute_result"
    }
   ],
   "source": [
    "yshear"
   ]
  },
  {
   "cell_type": "code",
   "execution_count": 12,
   "metadata": {},
   "outputs": [
    {
     "data": {
      "text/plain": [
       "[<matplotlib.lines.Line2D at 0x2aaad920eb20>]"
      ]
     },
     "execution_count": 12,
     "metadata": {},
     "output_type": "execute_result"
    },
    {
     "data": {
      "image/png": "[encoded data removed]",
      "text/plain": [
       "<Figure size 432x288 with 1 Axes>"
      ]
     },
     "metadata": {
      "needs_background": "light"
     },
     "output_type": "display_data"
    }
   ],
   "source": [
    "plt.scatter(xshear, yshear, s=0.1)\n",
    "x = np.linspace(-0.03,0.03,100)\n",
    "y = x\n",
    "plt.plot(x,y,'-k', lw=0.1)"
   ]
  },
  {
   "cell_type": "code",
   "execution_count": null,
   "metadata": {},
   "outputs": [],
   "source": []
  }
 ],
 "metadata": {
  "kernelspec": {
   "display_name": "CoLoReEnv",
   "language": "python",
   "name": "colore_env"
  },
  "language_info": {
   "codemirror_mode": {
    "name": "ipython",
    "version": 3
   },
   "file_extension": ".py",
   "mimetype": "text/x-python",
   "name": "python",
   "nbconvert_exporter": "python",
   "pygments_lexer": "ipython3",
   "version": "3.8.0"
  }
 },
 "nbformat": 4,
 "nbformat_minor": 4
}
